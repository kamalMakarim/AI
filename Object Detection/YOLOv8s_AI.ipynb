{
  "nbformat": 4,
  "nbformat_minor": 0,
  "metadata": {
    "colab": {
      "provenance": []
    },
    "kernelspec": {
      "name": "python3",
      "display_name": "Python 3"
    },
    "language_info": {
      "name": "python"
    }
  },
  "cells": [
    {
      "cell_type": "code",
      "execution_count": null,
      "metadata": {
        "id": "-5zi1G1QOrZX"
      },
      "outputs": [],
      "source": [
        "from google.colab import drive\n",
        "import os\n",
        "from ultralytics import YOLO\n",
        "\n",
        "drive.mount('/content/gdrive')"
      ]
    },
    {
      "cell_type": "code",
      "source": [
        "!pip install ultralytics"
      ],
      "metadata": {
        "collapsed": true,
        "id": "G8apBswqO1LH"
      },
      "execution_count": null,
      "outputs": []
    },
    {
      "cell_type": "code",
      "source": [
        "# Tulis file data.yaml\n",
        "%%writefile /content/gdrive/MyDrive/AI/data.yaml\n",
        "path: /content/gdrive/MyDrive/AI\n",
        "\n",
        "# Jumlah kelas objek\n",
        "nc: 3\n",
        "\n",
        "# Nama-nama kelas objek\n",
        "names: ['apple', 'orange', 'banana']\n",
        "\n",
        "train: images/train\n",
        "val: images/test"
      ],
      "metadata": {
        "id": "uNIkmfrkOvly"
      },
      "execution_count": null,
      "outputs": []
    },
    {
      "cell_type": "code",
      "source": [
        "model = YOLO('yolov8s.pt')\n",
        "\n",
        "model.train(\n",
        "    data='/content/gdrive/MyDrive/AI/data.yaml',\n",
        "    epochs=50,\n",
        "    imgsz=640,\n",
        "    batch=16,\n",
        "    project='/content/gdrive/MyDrive/AI/yolo_runs',\n",
        "    name='yolov8s_results'\n",
        ")"
      ],
      "metadata": {
        "colab": {
          "base_uri": "https://localhost:8080/"
        },
        "id": "I86xczPOO46V",
        "outputId": "3111fbf8-427e-449c-efed-8964492de0bb"
      },
      "execution_count": null,
      "outputs": [
        {
          "output_type": "stream",
          "name": "stdout",
          "text": [
            "Creating new Ultralytics Settings v0.0.6 file ✅ \n",
            "View Ultralytics Settings with 'yolo settings' or at '/root/.config/Ultralytics/settings.json'\n",
            "Update Settings with 'yolo settings key=value', i.e. 'yolo settings runs_dir=path/to/dir'. For help see https://docs.ultralytics.com/quickstart/#ultralytics-settings.\n",
            "Downloading https://github.com/ultralytics/assets/releases/download/v8.3.0/yolov8s.pt to 'yolov8s.pt'...\n"
          ]
        },
        {
          "output_type": "stream",
          "name": "stderr",
          "text": [
            "100%|██████████| 21.5M/21.5M [00:00<00:00, 179MB/s]\n"
          ]
        },
        {
          "output_type": "stream",
          "name": "stdout",
          "text": [
            "Ultralytics 8.3.145 🚀 Python-3.11.12 torch-2.6.0+cu124 CPU (AMD EPYC 7B12)\n",
            "\u001b[34m\u001b[1mengine/trainer: \u001b[0magnostic_nms=False, amp=True, augment=False, auto_augment=randaugment, batch=16, bgr=0.0, box=7.5, cache=False, cfg=None, classes=None, close_mosaic=10, cls=0.5, conf=None, copy_paste=0.0, copy_paste_mode=flip, cos_lr=False, cutmix=0.0, data=/content/gdrive/MyDrive/AI/data.yaml, degrees=0.0, deterministic=True, device=cpu, dfl=1.5, dnn=False, dropout=0.0, dynamic=False, embed=None, epochs=50, erasing=0.4, exist_ok=False, fliplr=0.5, flipud=0.0, format=torchscript, fraction=1.0, freeze=None, half=False, hsv_h=0.015, hsv_s=0.7, hsv_v=0.4, imgsz=640, int8=False, iou=0.7, keras=False, kobj=1.0, line_width=None, lr0=0.01, lrf=0.01, mask_ratio=4, max_det=300, mixup=0.0, mode=train, model=yolov8s.pt, momentum=0.937, mosaic=1.0, multi_scale=False, name=yolov8s_results, nbs=64, nms=False, opset=None, optimize=False, optimizer=auto, overlap_mask=True, patience=100, perspective=0.0, plots=True, pose=12.0, pretrained=True, profile=False, project=/content/gdrive/MyDrive/AI/yolo_runs, rect=False, resume=False, retina_masks=False, save=True, save_conf=False, save_crop=False, save_dir=/content/gdrive/MyDrive/AI/yolo_runs/yolov8s_results, save_frames=False, save_json=False, save_period=-1, save_txt=False, scale=0.5, seed=0, shear=0.0, show=False, show_boxes=True, show_conf=True, show_labels=True, simplify=True, single_cls=False, source=None, split=val, stream_buffer=False, task=detect, time=None, tracker=botsort.yaml, translate=0.1, val=True, verbose=True, vid_stride=1, visualize=False, warmup_bias_lr=0.1, warmup_epochs=3.0, warmup_momentum=0.8, weight_decay=0.0005, workers=8, workspace=None\n",
            "Downloading https://ultralytics.com/assets/Arial.ttf to '/root/.config/Ultralytics/Arial.ttf'...\n"
          ]
        },
        {
          "output_type": "stream",
          "name": "stderr",
          "text": [
            "100%|██████████| 755k/755k [00:00<00:00, 20.5MB/s]"
          ]
        },
        {
          "output_type": "stream",
          "name": "stdout",
          "text": [
            "Overriding model.yaml nc=80 with nc=3\n",
            "\n",
            "                   from  n    params  module                                       arguments                     \n",
            "  0                  -1  1       928  ultralytics.nn.modules.conv.Conv             [3, 32, 3, 2]                 \n",
            "  1                  -1  1     18560  ultralytics.nn.modules.conv.Conv             [32, 64, 3, 2]                \n",
            "  2                  -1  1     29056  ultralytics.nn.modules.block.C2f             [64, 64, 1, True]             \n",
            "  3                  -1  1     73984  ultralytics.nn.modules.conv.Conv             [64, 128, 3, 2]               \n",
            "  4                  -1  2    197632  ultralytics.nn.modules.block.C2f             [128, 128, 2, True]           \n",
            "  5                  -1  1    295424  ultralytics.nn.modules.conv.Conv             [128, 256, 3, 2]              \n",
            "  6                  -1  2    788480  ultralytics.nn.modules.block.C2f             [256, 256, 2, True]           \n",
            "  7                  -1  1   1180672  ultralytics.nn.modules.conv.Conv             [256, 512, 3, 2]              \n",
            "  8                  -1  1   1838080  ultralytics.nn.modules.block.C2f             [512, 512, 1, True]           \n",
            "  9                  -1  1    656896  ultralytics.nn.modules.block.SPPF            [512, 512, 5]                 \n",
            " 10                  -1  1         0  torch.nn.modules.upsampling.Upsample         [None, 2, 'nearest']          \n",
            " 11             [-1, 6]  1         0  ultralytics.nn.modules.conv.Concat           [1]                           \n",
            " 12                  -1  1    591360  ultralytics.nn.modules.block.C2f             [768, 256, 1]                 \n",
            " 13                  -1  1         0  torch.nn.modules.upsampling.Upsample         [None, 2, 'nearest']          \n",
            " 14             [-1, 4]  1         0  ultralytics.nn.modules.conv.Concat           [1]                           \n",
            " 15                  -1  1    148224  ultralytics.nn.modules.block.C2f             [384, 128, 1]                 \n",
            " 16                  -1  1    147712  ultralytics.nn.modules.conv.Conv             [128, 128, 3, 2]              \n",
            " 17            [-1, 12]  1         0  ultralytics.nn.modules.conv.Concat           [1]                           \n",
            " 18                  -1  1    493056  ultralytics.nn.modules.block.C2f             [384, 256, 1]                 \n",
            " 19                  -1  1    590336  ultralytics.nn.modules.conv.Conv             [256, 256, 3, 2]              \n",
            " 20             [-1, 9]  1         0  ultralytics.nn.modules.conv.Concat           [1]                           \n",
            " 21                  -1  1   1969152  ultralytics.nn.modules.block.C2f             [768, 512, 1]                 \n",
            " 22        [15, 18, 21]  1   2117209  ultralytics.nn.modules.head.Detect           [3, [128, 256, 512]]          \n"
          ]
        },
        {
          "output_type": "stream",
          "name": "stderr",
          "text": [
            "\n"
          ]
        },
        {
          "output_type": "stream",
          "name": "stdout",
          "text": [
            "Model summary: 129 layers, 11,136,761 parameters, 11,136,745 gradients, 28.7 GFLOPs\n",
            "\n",
            "Transferred 349/355 items from pretrained weights\n",
            "Freezing layer 'model.22.dfl.conv.weight'\n",
            "\u001b[34m\u001b[1mtrain: \u001b[0mFast image access ✅ (ping: 0.5±0.2 ms, read: 0.1±0.1 MB/s, size: 68.5 KB)\n"
          ]
        },
        {
          "output_type": "stream",
          "name": "stderr",
          "text": [
            "\u001b[34m\u001b[1mtrain: \u001b[0mScanning /content/gdrive/MyDrive/AI/labels/train... 240 images, 240 backgrounds, 0 corrupt: 100%|██████████| 480/480 [04:10<00:00,  1.92it/s]"
          ]
        },
        {
          "output_type": "stream",
          "name": "stdout",
          "text": [
            "\u001b[34m\u001b[1mtrain: \u001b[0mNew cache created: /content/gdrive/MyDrive/AI/labels/train.cache\n"
          ]
        },
        {
          "output_type": "stream",
          "name": "stderr",
          "text": [
            "\n"
          ]
        },
        {
          "output_type": "stream",
          "name": "stdout",
          "text": [
            "\u001b[34m\u001b[1malbumentations: \u001b[0mBlur(p=0.01, blur_limit=(3, 7)), MedianBlur(p=0.01, blur_limit=(3, 7)), ToGray(p=0.01, method='weighted_average', num_output_channels=3), CLAHE(p=0.01, clip_limit=(1.0, 4.0), tile_grid_size=(8, 8))\n",
            "\u001b[34m\u001b[1mval: \u001b[0mFast image access ✅ (ping: 0.4±0.1 ms, read: 0.3±0.3 MB/s, size: 227.1 KB)\n"
          ]
        },
        {
          "output_type": "stream",
          "name": "stderr",
          "text": [
            "\u001b[34m\u001b[1mval: \u001b[0mScanning /content/gdrive/MyDrive/AI/labels/test... 60 images, 0 backgrounds, 0 corrupt: 100%|██████████| 60/60 [00:55<00:00,  1.09it/s]"
          ]
        },
        {
          "output_type": "stream",
          "name": "stdout",
          "text": [
            "\u001b[34m\u001b[1mval: \u001b[0mNew cache created: /content/gdrive/MyDrive/AI/labels/test.cache\n"
          ]
        },
        {
          "output_type": "stream",
          "name": "stderr",
          "text": [
            "\n"
          ]
        },
        {
          "output_type": "stream",
          "name": "stdout",
          "text": [
            "Plotting labels to /content/gdrive/MyDrive/AI/yolo_runs/yolov8s_results/labels.jpg... \n",
            "\u001b[34m\u001b[1moptimizer:\u001b[0m 'optimizer=auto' found, ignoring 'lr0=0.01' and 'momentum=0.937' and determining best 'optimizer', 'lr0' and 'momentum' automatically... \n",
            "\u001b[34m\u001b[1moptimizer:\u001b[0m AdamW(lr=0.001429, momentum=0.9) with parameter groups 57 weight(decay=0.0), 64 weight(decay=0.0005), 63 bias(decay=0.0)\n",
            "Image sizes 640 train, 640 val\n",
            "Using 0 dataloader workers\n",
            "Logging results to \u001b[1m/content/gdrive/MyDrive/AI/yolo_runs/yolov8s_results\u001b[0m\n",
            "Starting training for 50 epochs...\n",
            "\n",
            "      Epoch    GPU_mem   box_loss   cls_loss   dfl_loss  Instances       Size\n"
          ]
        },
        {
          "output_type": "stream",
          "name": "stderr",
          "text": [
            "       1/50         0G      1.206      2.804      1.497         37        640: 100%|██████████| 30/30 [12:42<00:00, 25.43s/it]\n",
            "                 Class     Images  Instances      Box(P          R      mAP50  mAP50-95): 100%|██████████| 2/2 [00:34<00:00, 17.45s/it]"
          ]
        },
        {
          "output_type": "stream",
          "name": "stdout",
          "text": [
            "                   all         60        117      0.421      0.504      0.423      0.292\n"
          ]
        },
        {
          "output_type": "stream",
          "name": "stderr",
          "text": [
            "\n"
          ]
        },
        {
          "output_type": "stream",
          "name": "stdout",
          "text": [
            "\n",
            "      Epoch    GPU_mem   box_loss   cls_loss   dfl_loss  Instances       Size\n"
          ]
        },
        {
          "output_type": "stream",
          "name": "stderr",
          "text": [
            "       2/50         0G      1.219      2.125      1.446         28        640: 100%|██████████| 30/30 [12:21<00:00, 24.72s/it]\n",
            "                 Class     Images  Instances      Box(P          R      mAP50  mAP50-95): 100%|██████████| 2/2 [00:28<00:00, 14.42s/it]"
          ]
        },
        {
          "output_type": "stream",
          "name": "stdout",
          "text": [
            "                   all         60        117      0.369      0.287      0.256      0.152\n"
          ]
        },
        {
          "output_type": "stream",
          "name": "stderr",
          "text": [
            "\n"
          ]
        },
        {
          "output_type": "stream",
          "name": "stdout",
          "text": [
            "\n",
            "      Epoch    GPU_mem   box_loss   cls_loss   dfl_loss  Instances       Size\n"
          ]
        },
        {
          "output_type": "stream",
          "name": "stderr",
          "text": [
            "       3/50         0G      1.336      2.091      1.523         42        640: 100%|██████████| 30/30 [12:18<00:00, 24.60s/it]\n",
            "                 Class     Images  Instances      Box(P          R      mAP50  mAP50-95): 100%|██████████| 2/2 [00:28<00:00, 14.36s/it]"
          ]
        },
        {
          "output_type": "stream",
          "name": "stdout",
          "text": [
            "                   all         60        117      0.221      0.429      0.197      0.092\n"
          ]
        },
        {
          "output_type": "stream",
          "name": "stderr",
          "text": [
            "\n"
          ]
        },
        {
          "output_type": "stream",
          "name": "stdout",
          "text": [
            "\n",
            "      Epoch    GPU_mem   box_loss   cls_loss   dfl_loss  Instances       Size\n"
          ]
        },
        {
          "output_type": "stream",
          "name": "stderr",
          "text": [
            "       4/50         0G      1.348      2.062      1.579         24        640: 100%|██████████| 30/30 [12:18<00:00, 24.63s/it]\n",
            "                 Class     Images  Instances      Box(P          R      mAP50  mAP50-95): 100%|██████████| 2/2 [00:27<00:00, 13.99s/it]"
          ]
        },
        {
          "output_type": "stream",
          "name": "stdout",
          "text": [
            "                   all         60        117      0.191      0.417      0.265      0.135\n"
          ]
        },
        {
          "output_type": "stream",
          "name": "stderr",
          "text": [
            "\n"
          ]
        },
        {
          "output_type": "stream",
          "name": "stdout",
          "text": [
            "\n",
            "      Epoch    GPU_mem   box_loss   cls_loss   dfl_loss  Instances       Size\n"
          ]
        },
        {
          "output_type": "stream",
          "name": "stderr",
          "text": [
            "       5/50         0G       1.32          2      1.549         32        640: 100%|██████████| 30/30 [12:16<00:00, 24.54s/it]\n",
            "                 Class     Images  Instances      Box(P          R      mAP50  mAP50-95): 100%|██████████| 2/2 [00:28<00:00, 14.23s/it]"
          ]
        },
        {
          "output_type": "stream",
          "name": "stdout",
          "text": [
            "                   all         60        117      0.272       0.21      0.158      0.103\n"
          ]
        },
        {
          "output_type": "stream",
          "name": "stderr",
          "text": [
            "\n"
          ]
        },
        {
          "output_type": "stream",
          "name": "stdout",
          "text": [
            "\n",
            "      Epoch    GPU_mem   box_loss   cls_loss   dfl_loss  Instances       Size\n"
          ]
        },
        {
          "output_type": "stream",
          "name": "stderr",
          "text": [
            "       6/50         0G      1.354      2.007      1.558         31        640: 100%|██████████| 30/30 [12:19<00:00, 24.66s/it]\n",
            "                 Class     Images  Instances      Box(P          R      mAP50  mAP50-95): 100%|██████████| 2/2 [00:28<00:00, 14.02s/it]"
          ]
        },
        {
          "output_type": "stream",
          "name": "stdout",
          "text": [
            "                   all         60        117      0.411      0.442      0.403      0.248\n"
          ]
        },
        {
          "output_type": "stream",
          "name": "stderr",
          "text": [
            "\n"
          ]
        },
        {
          "output_type": "stream",
          "name": "stdout",
          "text": [
            "\n",
            "      Epoch    GPU_mem   box_loss   cls_loss   dfl_loss  Instances       Size\n"
          ]
        },
        {
          "output_type": "stream",
          "name": "stderr",
          "text": [
            "       7/50         0G      1.326      1.793      1.515         34        640: 100%|██████████| 30/30 [11:53<00:00, 23.78s/it]\n",
            "                 Class     Images  Instances      Box(P          R      mAP50  mAP50-95): 100%|██████████| 2/2 [00:28<00:00, 14.14s/it]"
          ]
        },
        {
          "output_type": "stream",
          "name": "stdout",
          "text": [
            "                   all         60        117      0.353      0.485      0.407      0.238\n"
          ]
        },
        {
          "output_type": "stream",
          "name": "stderr",
          "text": [
            "\n"
          ]
        },
        {
          "output_type": "stream",
          "name": "stdout",
          "text": [
            "\n",
            "      Epoch    GPU_mem   box_loss   cls_loss   dfl_loss  Instances       Size\n"
          ]
        },
        {
          "output_type": "stream",
          "name": "stderr",
          "text": [
            "       8/50         0G      1.261      1.858      1.488         42        640: 100%|██████████| 30/30 [12:12<00:00, 24.42s/it]\n",
            "                 Class     Images  Instances      Box(P          R      mAP50  mAP50-95): 100%|██████████| 2/2 [00:28<00:00, 14.26s/it]"
          ]
        },
        {
          "output_type": "stream",
          "name": "stdout",
          "text": [
            "                   all         60        117      0.341      0.441      0.374      0.231\n"
          ]
        },
        {
          "output_type": "stream",
          "name": "stderr",
          "text": [
            "\n"
          ]
        },
        {
          "output_type": "stream",
          "name": "stdout",
          "text": [
            "\n",
            "      Epoch    GPU_mem   box_loss   cls_loss   dfl_loss  Instances       Size\n"
          ]
        },
        {
          "output_type": "stream",
          "name": "stderr",
          "text": [
            "       9/50         0G      1.313      1.805      1.507         32        640: 100%|██████████| 30/30 [12:07<00:00, 24.24s/it]\n",
            "                 Class     Images  Instances      Box(P          R      mAP50  mAP50-95): 100%|██████████| 2/2 [00:28<00:00, 14.09s/it]"
          ]
        },
        {
          "output_type": "stream",
          "name": "stdout",
          "text": [
            "                   all         60        117      0.478      0.648      0.608      0.361\n"
          ]
        },
        {
          "output_type": "stream",
          "name": "stderr",
          "text": [
            "\n"
          ]
        },
        {
          "output_type": "stream",
          "name": "stdout",
          "text": [
            "\n",
            "      Epoch    GPU_mem   box_loss   cls_loss   dfl_loss  Instances       Size\n"
          ]
        },
        {
          "output_type": "stream",
          "name": "stderr",
          "text": [
            "      10/50         0G      1.276      1.753       1.48         24        640: 100%|██████████| 30/30 [12:13<00:00, 24.45s/it]\n",
            "                 Class     Images  Instances      Box(P          R      mAP50  mAP50-95): 100%|██████████| 2/2 [00:28<00:00, 14.46s/it]"
          ]
        },
        {
          "output_type": "stream",
          "name": "stdout",
          "text": [
            "                   all         60        117      0.483      0.598      0.584      0.329\n"
          ]
        },
        {
          "output_type": "stream",
          "name": "stderr",
          "text": [
            "\n"
          ]
        },
        {
          "output_type": "stream",
          "name": "stdout",
          "text": [
            "\n",
            "      Epoch    GPU_mem   box_loss   cls_loss   dfl_loss  Instances       Size\n"
          ]
        },
        {
          "output_type": "stream",
          "name": "stderr",
          "text": [
            "      11/50         0G      1.195      1.721       1.44         29        640: 100%|██████████| 30/30 [12:20<00:00, 24.67s/it]\n",
            "                 Class     Images  Instances      Box(P          R      mAP50  mAP50-95): 100%|██████████| 2/2 [00:28<00:00, 14.09s/it]"
          ]
        },
        {
          "output_type": "stream",
          "name": "stdout",
          "text": [
            "                   all         60        117       0.51      0.586      0.579      0.394\n"
          ]
        },
        {
          "output_type": "stream",
          "name": "stderr",
          "text": [
            "\n"
          ]
        },
        {
          "output_type": "stream",
          "name": "stdout",
          "text": [
            "\n",
            "      Epoch    GPU_mem   box_loss   cls_loss   dfl_loss  Instances       Size\n"
          ]
        },
        {
          "output_type": "stream",
          "name": "stderr",
          "text": [
            "      12/50         0G      1.195      1.777       1.44         35        640: 100%|██████████| 30/30 [12:09<00:00, 24.31s/it]\n",
            "                 Class     Images  Instances      Box(P          R      mAP50  mAP50-95): 100%|██████████| 2/2 [00:28<00:00, 14.48s/it]"
          ]
        },
        {
          "output_type": "stream",
          "name": "stdout",
          "text": [
            "                   all         60        117      0.539      0.591      0.562      0.329\n"
          ]
        },
        {
          "output_type": "stream",
          "name": "stderr",
          "text": [
            "\n"
          ]
        },
        {
          "output_type": "stream",
          "name": "stdout",
          "text": [
            "\n",
            "      Epoch    GPU_mem   box_loss   cls_loss   dfl_loss  Instances       Size\n"
          ]
        },
        {
          "output_type": "stream",
          "name": "stderr",
          "text": [
            "      13/50         0G       1.24      1.741      1.458         48        640: 100%|██████████| 30/30 [12:04<00:00, 24.16s/it]\n",
            "                 Class     Images  Instances      Box(P          R      mAP50  mAP50-95): 100%|██████████| 2/2 [00:28<00:00, 14.23s/it]"
          ]
        },
        {
          "output_type": "stream",
          "name": "stdout",
          "text": [
            "                   all         60        117      0.714      0.682      0.739       0.47\n"
          ]
        },
        {
          "output_type": "stream",
          "name": "stderr",
          "text": [
            "\n"
          ]
        },
        {
          "output_type": "stream",
          "name": "stdout",
          "text": [
            "\n",
            "      Epoch    GPU_mem   box_loss   cls_loss   dfl_loss  Instances       Size\n"
          ]
        },
        {
          "output_type": "stream",
          "name": "stderr",
          "text": [
            "      14/50         0G      1.169      1.625      1.419         36        640: 100%|██████████| 30/30 [12:03<00:00, 24.12s/it]\n",
            "                 Class     Images  Instances      Box(P          R      mAP50  mAP50-95): 100%|██████████| 2/2 [00:27<00:00, 13.93s/it]"
          ]
        },
        {
          "output_type": "stream",
          "name": "stdout",
          "text": [
            "                   all         60        117      0.703      0.779      0.733      0.495\n"
          ]
        },
        {
          "output_type": "stream",
          "name": "stderr",
          "text": [
            "\n"
          ]
        },
        {
          "output_type": "stream",
          "name": "stdout",
          "text": [
            "\n",
            "      Epoch    GPU_mem   box_loss   cls_loss   dfl_loss  Instances       Size\n"
          ]
        },
        {
          "output_type": "stream",
          "name": "stderr",
          "text": [
            "      15/50         0G      1.158      1.601      1.399         47        640: 100%|██████████| 30/30 [12:03<00:00, 24.12s/it]\n",
            "                 Class     Images  Instances      Box(P          R      mAP50  mAP50-95): 100%|██████████| 2/2 [00:27<00:00, 13.96s/it]"
          ]
        },
        {
          "output_type": "stream",
          "name": "stdout",
          "text": [
            "                   all         60        117      0.627      0.656      0.703      0.471\n"
          ]
        },
        {
          "output_type": "stream",
          "name": "stderr",
          "text": [
            "\n"
          ]
        },
        {
          "output_type": "stream",
          "name": "stdout",
          "text": [
            "\n",
            "      Epoch    GPU_mem   box_loss   cls_loss   dfl_loss  Instances       Size\n"
          ]
        },
        {
          "output_type": "stream",
          "name": "stderr",
          "text": [
            "      16/50         0G      1.164      1.591      1.391         44        640: 100%|██████████| 30/30 [12:02<00:00, 24.08s/it]\n",
            "                 Class     Images  Instances      Box(P          R      mAP50  mAP50-95): 100%|██████████| 2/2 [00:28<00:00, 14.11s/it]"
          ]
        },
        {
          "output_type": "stream",
          "name": "stdout",
          "text": [
            "                   all         60        117      0.671      0.683      0.757      0.506\n"
          ]
        },
        {
          "output_type": "stream",
          "name": "stderr",
          "text": [
            "\n"
          ]
        },
        {
          "output_type": "stream",
          "name": "stdout",
          "text": [
            "\n",
            "      Epoch    GPU_mem   box_loss   cls_loss   dfl_loss  Instances       Size\n"
          ]
        },
        {
          "output_type": "stream",
          "name": "stderr",
          "text": [
            "      17/50         0G      1.085      1.553      1.348         34        640: 100%|██████████| 30/30 [12:00<00:00, 24.02s/it]\n",
            "                 Class     Images  Instances      Box(P          R      mAP50  mAP50-95): 100%|██████████| 2/2 [00:28<00:00, 14.41s/it]"
          ]
        },
        {
          "output_type": "stream",
          "name": "stdout",
          "text": [
            "                   all         60        117      0.778      0.718      0.791      0.568\n"
          ]
        },
        {
          "output_type": "stream",
          "name": "stderr",
          "text": [
            "\n"
          ]
        },
        {
          "output_type": "stream",
          "name": "stdout",
          "text": [
            "\n",
            "      Epoch    GPU_mem   box_loss   cls_loss   dfl_loss  Instances       Size\n"
          ]
        },
        {
          "output_type": "stream",
          "name": "stderr",
          "text": [
            "      18/50         0G      1.089      1.556      1.367         37        640: 100%|██████████| 30/30 [12:08<00:00, 24.29s/it]\n",
            "                 Class     Images  Instances      Box(P          R      mAP50  mAP50-95): 100%|██████████| 2/2 [00:28<00:00, 14.27s/it]"
          ]
        },
        {
          "output_type": "stream",
          "name": "stdout",
          "text": [
            "                   all         60        117       0.72      0.733        0.8      0.552\n"
          ]
        },
        {
          "output_type": "stream",
          "name": "stderr",
          "text": [
            "\n"
          ]
        },
        {
          "output_type": "stream",
          "name": "stdout",
          "text": [
            "\n",
            "      Epoch    GPU_mem   box_loss   cls_loss   dfl_loss  Instances       Size\n"
          ]
        },
        {
          "output_type": "stream",
          "name": "stderr",
          "text": [
            "      19/50         0G      1.082      1.523      1.353         28        640: 100%|██████████| 30/30 [12:08<00:00, 24.27s/it]\n",
            "                 Class     Images  Instances      Box(P          R      mAP50  mAP50-95): 100%|██████████| 2/2 [00:28<00:00, 14.05s/it]"
          ]
        },
        {
          "output_type": "stream",
          "name": "stdout",
          "text": [
            "                   all         60        117      0.714      0.737      0.756      0.526\n"
          ]
        },
        {
          "output_type": "stream",
          "name": "stderr",
          "text": [
            "\n"
          ]
        },
        {
          "output_type": "stream",
          "name": "stdout",
          "text": [
            "\n",
            "      Epoch    GPU_mem   box_loss   cls_loss   dfl_loss  Instances       Size\n"
          ]
        },
        {
          "output_type": "stream",
          "name": "stderr",
          "text": [
            "      20/50         0G      1.068       1.52      1.319         36        640: 100%|██████████| 30/30 [12:04<00:00, 24.16s/it]\n",
            "                 Class     Images  Instances      Box(P          R      mAP50  mAP50-95): 100%|██████████| 2/2 [00:28<00:00, 14.08s/it]"
          ]
        },
        {
          "output_type": "stream",
          "name": "stdout",
          "text": [
            "                   all         60        117      0.671       0.73       0.75      0.505\n"
          ]
        },
        {
          "output_type": "stream",
          "name": "stderr",
          "text": [
            "\n"
          ]
        },
        {
          "output_type": "stream",
          "name": "stdout",
          "text": [
            "\n",
            "      Epoch    GPU_mem   box_loss   cls_loss   dfl_loss  Instances       Size\n"
          ]
        },
        {
          "output_type": "stream",
          "name": "stderr",
          "text": [
            "      21/50         0G      1.082      1.526      1.321         33        640: 100%|██████████| 30/30 [12:10<00:00, 24.36s/it]\n",
            "                 Class     Images  Instances      Box(P          R      mAP50  mAP50-95): 100%|██████████| 2/2 [00:28<00:00, 14.48s/it]"
          ]
        },
        {
          "output_type": "stream",
          "name": "stdout",
          "text": [
            "                   all         60        117      0.689      0.782      0.786      0.536\n"
          ]
        },
        {
          "output_type": "stream",
          "name": "stderr",
          "text": [
            "\n"
          ]
        },
        {
          "output_type": "stream",
          "name": "stdout",
          "text": [
            "\n",
            "      Epoch    GPU_mem   box_loss   cls_loss   dfl_loss  Instances       Size\n"
          ]
        },
        {
          "output_type": "stream",
          "name": "stderr",
          "text": [
            "      22/50         0G      1.053      1.516      1.334         28        640: 100%|██████████| 30/30 [12:11<00:00, 24.38s/it]\n",
            "                 Class     Images  Instances      Box(P          R      mAP50  mAP50-95): 100%|██████████| 2/2 [00:28<00:00, 14.35s/it]"
          ]
        },
        {
          "output_type": "stream",
          "name": "stdout",
          "text": [
            "                   all         60        117      0.761      0.823      0.806      0.542\n"
          ]
        },
        {
          "output_type": "stream",
          "name": "stderr",
          "text": [
            "\n"
          ]
        },
        {
          "output_type": "stream",
          "name": "stdout",
          "text": [
            "\n",
            "      Epoch    GPU_mem   box_loss   cls_loss   dfl_loss  Instances       Size\n"
          ]
        },
        {
          "output_type": "stream",
          "name": "stderr",
          "text": [
            "      23/50         0G      1.024      1.418      1.309         33        640: 100%|██████████| 30/30 [12:09<00:00, 24.31s/it]\n",
            "                 Class     Images  Instances      Box(P          R      mAP50  mAP50-95): 100%|██████████| 2/2 [00:28<00:00, 14.36s/it]"
          ]
        },
        {
          "output_type": "stream",
          "name": "stdout",
          "text": [
            "                   all         60        117      0.735      0.806      0.798      0.578\n"
          ]
        },
        {
          "output_type": "stream",
          "name": "stderr",
          "text": [
            "\n"
          ]
        },
        {
          "output_type": "stream",
          "name": "stdout",
          "text": [
            "\n",
            "      Epoch    GPU_mem   box_loss   cls_loss   dfl_loss  Instances       Size\n"
          ]
        },
        {
          "output_type": "stream",
          "name": "stderr",
          "text": [
            "      24/50         0G      1.036      1.426      1.336         25        640: 100%|██████████| 30/30 [12:18<00:00, 24.61s/it]\n",
            "                 Class     Images  Instances      Box(P          R      mAP50  mAP50-95): 100%|██████████| 2/2 [00:27<00:00, 13.97s/it]"
          ]
        },
        {
          "output_type": "stream",
          "name": "stdout",
          "text": [
            "                   all         60        117      0.733      0.774      0.817       0.57\n"
          ]
        },
        {
          "output_type": "stream",
          "name": "stderr",
          "text": [
            "\n"
          ]
        },
        {
          "output_type": "stream",
          "name": "stdout",
          "text": [
            "\n",
            "      Epoch    GPU_mem   box_loss   cls_loss   dfl_loss  Instances       Size\n"
          ]
        },
        {
          "output_type": "stream",
          "name": "stderr",
          "text": [
            "      25/50         0G      1.018      1.415      1.326         51        640: 100%|██████████| 30/30 [12:11<00:00, 24.40s/it]\n",
            "                 Class     Images  Instances      Box(P          R      mAP50  mAP50-95): 100%|██████████| 2/2 [00:28<00:00, 14.17s/it]"
          ]
        },
        {
          "output_type": "stream",
          "name": "stdout",
          "text": [
            "                   all         60        117      0.804      0.772      0.836       0.58\n"
          ]
        },
        {
          "output_type": "stream",
          "name": "stderr",
          "text": [
            "\n"
          ]
        },
        {
          "output_type": "stream",
          "name": "stdout",
          "text": [
            "\n",
            "      Epoch    GPU_mem   box_loss   cls_loss   dfl_loss  Instances       Size\n"
          ]
        },
        {
          "output_type": "stream",
          "name": "stderr",
          "text": [
            "      26/50         0G     0.9623      1.365      1.275         46        640: 100%|██████████| 30/30 [12:09<00:00, 24.30s/it]\n",
            "                 Class     Images  Instances      Box(P          R      mAP50  mAP50-95): 100%|██████████| 2/2 [00:28<00:00, 14.23s/it]"
          ]
        },
        {
          "output_type": "stream",
          "name": "stdout",
          "text": [
            "                   all         60        117      0.826      0.756      0.849      0.605\n"
          ]
        },
        {
          "output_type": "stream",
          "name": "stderr",
          "text": [
            "\n"
          ]
        },
        {
          "output_type": "stream",
          "name": "stdout",
          "text": [
            "\n",
            "      Epoch    GPU_mem   box_loss   cls_loss   dfl_loss  Instances       Size\n"
          ]
        },
        {
          "output_type": "stream",
          "name": "stderr",
          "text": [
            "      27/50         0G      0.979      1.369      1.282         41        640: 100%|██████████| 30/30 [12:11<00:00, 24.39s/it]\n",
            "                 Class     Images  Instances      Box(P          R      mAP50  mAP50-95): 100%|██████████| 2/2 [00:28<00:00, 14.16s/it]"
          ]
        },
        {
          "output_type": "stream",
          "name": "stdout",
          "text": [
            "                   all         60        117      0.807      0.767      0.864      0.612\n"
          ]
        },
        {
          "output_type": "stream",
          "name": "stderr",
          "text": [
            "\n"
          ]
        },
        {
          "output_type": "stream",
          "name": "stdout",
          "text": [
            "\n",
            "      Epoch    GPU_mem   box_loss   cls_loss   dfl_loss  Instances       Size\n"
          ]
        },
        {
          "output_type": "stream",
          "name": "stderr",
          "text": [
            "      28/50         0G     0.9767      1.365      1.277         36        640: 100%|██████████| 30/30 [12:11<00:00, 24.37s/it]\n",
            "                 Class     Images  Instances      Box(P          R      mAP50  mAP50-95): 100%|██████████| 2/2 [00:27<00:00, 13.88s/it]"
          ]
        },
        {
          "output_type": "stream",
          "name": "stdout",
          "text": [
            "                   all         60        117      0.817      0.739      0.811      0.578\n"
          ]
        },
        {
          "output_type": "stream",
          "name": "stderr",
          "text": [
            "\n"
          ]
        },
        {
          "output_type": "stream",
          "name": "stdout",
          "text": [
            "\n",
            "      Epoch    GPU_mem   box_loss   cls_loss   dfl_loss  Instances       Size\n"
          ]
        },
        {
          "output_type": "stream",
          "name": "stderr",
          "text": [
            "      29/50         0G     0.9614      1.334      1.273         45        640: 100%|██████████| 30/30 [12:09<00:00, 24.31s/it]\n",
            "                 Class     Images  Instances      Box(P          R      mAP50  mAP50-95): 100%|██████████| 2/2 [00:28<00:00, 14.25s/it]"
          ]
        },
        {
          "output_type": "stream",
          "name": "stdout",
          "text": [
            "                   all         60        117      0.767      0.739      0.821      0.587\n"
          ]
        },
        {
          "output_type": "stream",
          "name": "stderr",
          "text": [
            "\n"
          ]
        },
        {
          "output_type": "stream",
          "name": "stdout",
          "text": [
            "\n",
            "      Epoch    GPU_mem   box_loss   cls_loss   dfl_loss  Instances       Size\n"
          ]
        },
        {
          "output_type": "stream",
          "name": "stderr",
          "text": [
            "      30/50         0G     0.9221      1.407       1.24         30        640: 100%|██████████| 30/30 [12:26<00:00, 24.88s/it]\n",
            "                 Class     Images  Instances      Box(P          R      mAP50  mAP50-95): 100%|██████████| 2/2 [00:28<00:00, 14.49s/it]"
          ]
        },
        {
          "output_type": "stream",
          "name": "stdout",
          "text": [
            "                   all         60        117       0.76      0.805      0.863      0.621\n"
          ]
        },
        {
          "output_type": "stream",
          "name": "stderr",
          "text": [
            "\n"
          ]
        },
        {
          "output_type": "stream",
          "name": "stdout",
          "text": [
            "\n",
            "      Epoch    GPU_mem   box_loss   cls_loss   dfl_loss  Instances       Size\n"
          ]
        },
        {
          "output_type": "stream",
          "name": "stderr",
          "text": [
            "      31/50         0G     0.9494      1.306      1.267         49        640: 100%|██████████| 30/30 [12:20<00:00, 24.67s/it]\n",
            "                 Class     Images  Instances      Box(P          R      mAP50  mAP50-95): 100%|██████████| 2/2 [00:29<00:00, 14.83s/it]"
          ]
        },
        {
          "output_type": "stream",
          "name": "stdout",
          "text": [
            "                   all         60        117      0.733      0.832      0.851      0.614\n"
          ]
        },
        {
          "output_type": "stream",
          "name": "stderr",
          "text": [
            "\n"
          ]
        },
        {
          "output_type": "stream",
          "name": "stdout",
          "text": [
            "\n",
            "      Epoch    GPU_mem   box_loss   cls_loss   dfl_loss  Instances       Size\n"
          ]
        },
        {
          "output_type": "stream",
          "name": "stderr",
          "text": [
            "      32/50         0G     0.9136      1.287      1.236         44        640: 100%|██████████| 30/30 [12:25<00:00, 24.86s/it]\n",
            "                 Class     Images  Instances      Box(P          R      mAP50  mAP50-95): 100%|██████████| 2/2 [00:28<00:00, 14.42s/it]"
          ]
        },
        {
          "output_type": "stream",
          "name": "stdout",
          "text": [
            "                   all         60        117      0.815      0.794      0.844        0.6\n"
          ]
        },
        {
          "output_type": "stream",
          "name": "stderr",
          "text": [
            "\n"
          ]
        },
        {
          "output_type": "stream",
          "name": "stdout",
          "text": [
            "\n",
            "      Epoch    GPU_mem   box_loss   cls_loss   dfl_loss  Instances       Size\n"
          ]
        },
        {
          "output_type": "stream",
          "name": "stderr",
          "text": [
            "      33/50         0G     0.8964      1.256      1.219         26        640: 100%|██████████| 30/30 [12:25<00:00, 24.86s/it]\n",
            "                 Class     Images  Instances      Box(P          R      mAP50  mAP50-95): 100%|██████████| 2/2 [00:29<00:00, 14.52s/it]"
          ]
        },
        {
          "output_type": "stream",
          "name": "stdout",
          "text": [
            "                   all         60        117      0.806      0.846      0.874      0.634\n"
          ]
        },
        {
          "output_type": "stream",
          "name": "stderr",
          "text": [
            "\n"
          ]
        },
        {
          "output_type": "stream",
          "name": "stdout",
          "text": [
            "\n",
            "      Epoch    GPU_mem   box_loss   cls_loss   dfl_loss  Instances       Size\n"
          ]
        },
        {
          "output_type": "stream",
          "name": "stderr",
          "text": [
            "      34/50         0G     0.9003      1.291      1.218         33        640: 100%|██████████| 30/30 [12:04<00:00, 24.15s/it]\n",
            "                 Class     Images  Instances      Box(P          R      mAP50  mAP50-95): 100%|██████████| 2/2 [00:28<00:00, 14.19s/it]"
          ]
        },
        {
          "output_type": "stream",
          "name": "stdout",
          "text": [
            "                   all         60        117      0.842      0.793      0.889      0.619\n"
          ]
        },
        {
          "output_type": "stream",
          "name": "stderr",
          "text": [
            "\n"
          ]
        },
        {
          "output_type": "stream",
          "name": "stdout",
          "text": [
            "\n",
            "      Epoch    GPU_mem   box_loss   cls_loss   dfl_loss  Instances       Size\n"
          ]
        },
        {
          "output_type": "stream",
          "name": "stderr",
          "text": [
            "      35/50         0G     0.8946       1.26      1.233         39        640: 100%|██████████| 30/30 [12:09<00:00, 24.32s/it]\n",
            "                 Class     Images  Instances      Box(P          R      mAP50  mAP50-95): 100%|██████████| 2/2 [00:28<00:00, 14.01s/it]"
          ]
        },
        {
          "output_type": "stream",
          "name": "stdout",
          "text": [
            "                   all         60        117      0.878      0.759      0.865      0.619\n"
          ]
        },
        {
          "output_type": "stream",
          "name": "stderr",
          "text": [
            "\n"
          ]
        },
        {
          "output_type": "stream",
          "name": "stdout",
          "text": [
            "\n",
            "      Epoch    GPU_mem   box_loss   cls_loss   dfl_loss  Instances       Size\n"
          ]
        },
        {
          "output_type": "stream",
          "name": "stderr",
          "text": [
            "      36/50         0G     0.8758      1.251      1.208         25        640: 100%|██████████| 30/30 [12:00<00:00, 24.00s/it]\n",
            "                 Class     Images  Instances      Box(P          R      mAP50  mAP50-95): 100%|██████████| 2/2 [00:30<00:00, 15.22s/it]"
          ]
        },
        {
          "output_type": "stream",
          "name": "stdout",
          "text": [
            "                   all         60        117      0.876      0.781      0.885      0.643\n"
          ]
        },
        {
          "output_type": "stream",
          "name": "stderr",
          "text": [
            "\n"
          ]
        },
        {
          "output_type": "stream",
          "name": "stdout",
          "text": [
            "\n",
            "      Epoch    GPU_mem   box_loss   cls_loss   dfl_loss  Instances       Size\n"
          ]
        },
        {
          "output_type": "stream",
          "name": "stderr",
          "text": [
            "      37/50         0G     0.8482      1.214       1.19         45        640: 100%|██████████| 30/30 [12:04<00:00, 24.14s/it]\n",
            "                 Class     Images  Instances      Box(P          R      mAP50  mAP50-95): 100%|██████████| 2/2 [00:28<00:00, 14.44s/it]"
          ]
        },
        {
          "output_type": "stream",
          "name": "stdout",
          "text": [
            "                   all         60        117       0.81       0.84      0.883      0.639\n"
          ]
        },
        {
          "output_type": "stream",
          "name": "stderr",
          "text": [
            "\n"
          ]
        },
        {
          "output_type": "stream",
          "name": "stdout",
          "text": [
            "\n",
            "      Epoch    GPU_mem   box_loss   cls_loss   dfl_loss  Instances       Size\n"
          ]
        },
        {
          "output_type": "stream",
          "name": "stderr",
          "text": [
            "      38/50         0G     0.8384      1.204      1.173         29        640: 100%|██████████| 30/30 [12:25<00:00, 24.86s/it]\n",
            "                 Class     Images  Instances      Box(P          R      mAP50  mAP50-95): 100%|██████████| 2/2 [00:28<00:00, 14.46s/it]"
          ]
        },
        {
          "output_type": "stream",
          "name": "stdout",
          "text": [
            "                   all         60        117      0.818      0.824      0.901      0.665\n"
          ]
        },
        {
          "output_type": "stream",
          "name": "stderr",
          "text": [
            "\n"
          ]
        },
        {
          "output_type": "stream",
          "name": "stdout",
          "text": [
            "\n",
            "      Epoch    GPU_mem   box_loss   cls_loss   dfl_loss  Instances       Size\n"
          ]
        },
        {
          "output_type": "stream",
          "name": "stderr",
          "text": [
            "      39/50         0G     0.8557      1.226      1.189         28        640: 100%|██████████| 30/30 [12:08<00:00, 24.27s/it]\n",
            "                 Class     Images  Instances      Box(P          R      mAP50  mAP50-95): 100%|██████████| 2/2 [00:28<00:00, 14.24s/it]"
          ]
        },
        {
          "output_type": "stream",
          "name": "stdout",
          "text": [
            "                   all         60        117      0.859      0.805      0.892      0.662\n"
          ]
        },
        {
          "output_type": "stream",
          "name": "stderr",
          "text": [
            "\n"
          ]
        },
        {
          "output_type": "stream",
          "name": "stdout",
          "text": [
            "\n",
            "      Epoch    GPU_mem   box_loss   cls_loss   dfl_loss  Instances       Size\n"
          ]
        },
        {
          "output_type": "stream",
          "name": "stderr",
          "text": [
            "      40/50         0G     0.8655      1.193      1.201         30        640: 100%|██████████| 30/30 [12:14<00:00, 24.47s/it]\n",
            "                 Class     Images  Instances      Box(P          R      mAP50  mAP50-95): 100%|██████████| 2/2 [00:28<00:00, 14.20s/it]"
          ]
        },
        {
          "output_type": "stream",
          "name": "stdout",
          "text": [
            "                   all         60        117      0.803      0.858      0.873      0.642\n"
          ]
        },
        {
          "output_type": "stream",
          "name": "stderr",
          "text": [
            "\n"
          ]
        },
        {
          "output_type": "stream",
          "name": "stdout",
          "text": [
            "Closing dataloader mosaic\n",
            "\u001b[34m\u001b[1malbumentations: \u001b[0mBlur(p=0.01, blur_limit=(3, 7)), MedianBlur(p=0.01, blur_limit=(3, 7)), ToGray(p=0.01, method='weighted_average', num_output_channels=3), CLAHE(p=0.01, clip_limit=(1.0, 4.0), tile_grid_size=(8, 8))\n",
            "\n",
            "      Epoch    GPU_mem   box_loss   cls_loss   dfl_loss  Instances       Size\n"
          ]
        },
        {
          "output_type": "stream",
          "name": "stderr",
          "text": [
            "      41/50         0G     0.7849      1.214      1.182         15        640: 100%|██████████| 30/30 [12:05<00:00, 24.19s/it]\n",
            "                 Class     Images  Instances      Box(P          R      mAP50  mAP50-95): 100%|██████████| 2/2 [00:27<00:00, 13.93s/it]"
          ]
        },
        {
          "output_type": "stream",
          "name": "stdout",
          "text": [
            "                   all         60        117      0.862        0.8      0.863       0.62\n"
          ]
        },
        {
          "output_type": "stream",
          "name": "stderr",
          "text": [
            "\n"
          ]
        },
        {
          "output_type": "stream",
          "name": "stdout",
          "text": [
            "\n",
            "      Epoch    GPU_mem   box_loss   cls_loss   dfl_loss  Instances       Size\n"
          ]
        },
        {
          "output_type": "stream",
          "name": "stderr",
          "text": [
            "      42/50         0G      0.771      1.132      1.166         20        640: 100%|██████████| 30/30 [12:04<00:00, 24.14s/it]\n",
            "                 Class     Images  Instances      Box(P          R      mAP50  mAP50-95): 100%|██████████| 2/2 [00:28<00:00, 14.04s/it]"
          ]
        },
        {
          "output_type": "stream",
          "name": "stdout",
          "text": [
            "                   all         60        117      0.851      0.863      0.901      0.688\n"
          ]
        },
        {
          "output_type": "stream",
          "name": "stderr",
          "text": [
            "\n"
          ]
        },
        {
          "output_type": "stream",
          "name": "stdout",
          "text": [
            "\n",
            "      Epoch    GPU_mem   box_loss   cls_loss   dfl_loss  Instances       Size\n"
          ]
        },
        {
          "output_type": "stream",
          "name": "stderr",
          "text": [
            "      43/50         0G     0.7587      1.138      1.174         12        640: 100%|██████████| 30/30 [12:15<00:00, 24.50s/it]\n",
            "                 Class     Images  Instances      Box(P          R      mAP50  mAP50-95): 100%|██████████| 2/2 [00:28<00:00, 14.27s/it]"
          ]
        },
        {
          "output_type": "stream",
          "name": "stdout",
          "text": [
            "                   all         60        117      0.844       0.85      0.904      0.676\n"
          ]
        },
        {
          "output_type": "stream",
          "name": "stderr",
          "text": [
            "\n"
          ]
        },
        {
          "output_type": "stream",
          "name": "stdout",
          "text": [
            "\n",
            "      Epoch    GPU_mem   box_loss   cls_loss   dfl_loss  Instances       Size\n"
          ]
        },
        {
          "output_type": "stream",
          "name": "stderr",
          "text": [
            "      44/50         0G     0.7249      1.112       1.15         31        640: 100%|██████████| 30/30 [12:13<00:00, 24.46s/it]\n",
            "                 Class     Images  Instances      Box(P          R      mAP50  mAP50-95): 100%|██████████| 2/2 [00:29<00:00, 14.61s/it]"
          ]
        },
        {
          "output_type": "stream",
          "name": "stdout",
          "text": [
            "                   all         60        117      0.855      0.785      0.889      0.674\n"
          ]
        },
        {
          "output_type": "stream",
          "name": "stderr",
          "text": [
            "\n"
          ]
        },
        {
          "output_type": "stream",
          "name": "stdout",
          "text": [
            "\n",
            "      Epoch    GPU_mem   box_loss   cls_loss   dfl_loss  Instances       Size\n"
          ]
        },
        {
          "output_type": "stream",
          "name": "stderr",
          "text": [
            "      45/50         0G     0.7238      1.123      1.141         20        640: 100%|██████████| 30/30 [12:16<00:00, 24.57s/it]\n",
            "                 Class     Images  Instances      Box(P          R      mAP50  mAP50-95): 100%|██████████| 2/2 [00:28<00:00, 14.29s/it]"
          ]
        },
        {
          "output_type": "stream",
          "name": "stdout",
          "text": [
            "                   all         60        117      0.852      0.827      0.902      0.673\n"
          ]
        },
        {
          "output_type": "stream",
          "name": "stderr",
          "text": [
            "\n"
          ]
        },
        {
          "output_type": "stream",
          "name": "stdout",
          "text": [
            "\n",
            "      Epoch    GPU_mem   box_loss   cls_loss   dfl_loss  Instances       Size\n"
          ]
        },
        {
          "output_type": "stream",
          "name": "stderr",
          "text": [
            "      46/50         0G     0.7145      1.124      1.175         21        640: 100%|██████████| 30/30 [12:05<00:00, 24.19s/it]\n",
            "                 Class     Images  Instances      Box(P          R      mAP50  mAP50-95): 100%|██████████| 2/2 [00:28<00:00, 14.36s/it]"
          ]
        },
        {
          "output_type": "stream",
          "name": "stdout",
          "text": [
            "                   all         60        117      0.883      0.816      0.902      0.662\n"
          ]
        },
        {
          "output_type": "stream",
          "name": "stderr",
          "text": [
            "\n"
          ]
        },
        {
          "output_type": "stream",
          "name": "stdout",
          "text": [
            "\n",
            "      Epoch    GPU_mem   box_loss   cls_loss   dfl_loss  Instances       Size\n"
          ]
        },
        {
          "output_type": "stream",
          "name": "stderr",
          "text": [
            "      47/50         0G     0.6868      1.093      1.124         13        640: 100%|██████████| 30/30 [12:14<00:00, 24.49s/it]\n",
            "                 Class     Images  Instances      Box(P          R      mAP50  mAP50-95): 100%|██████████| 2/2 [00:29<00:00, 14.54s/it]"
          ]
        },
        {
          "output_type": "stream",
          "name": "stdout",
          "text": [
            "                   all         60        117      0.862      0.816      0.902      0.669\n"
          ]
        },
        {
          "output_type": "stream",
          "name": "stderr",
          "text": [
            "\n"
          ]
        },
        {
          "output_type": "stream",
          "name": "stdout",
          "text": [
            "\n",
            "      Epoch    GPU_mem   box_loss   cls_loss   dfl_loss  Instances       Size\n"
          ]
        },
        {
          "output_type": "stream",
          "name": "stderr",
          "text": [
            "      48/50         0G     0.6618      1.072      1.094         16        640: 100%|██████████| 30/30 [12:11<00:00, 24.38s/it]\n",
            "                 Class     Images  Instances      Box(P          R      mAP50  mAP50-95): 100%|██████████| 2/2 [00:28<00:00, 14.13s/it]"
          ]
        },
        {
          "output_type": "stream",
          "name": "stdout",
          "text": [
            "                   all         60        117      0.898      0.819      0.915      0.687\n"
          ]
        },
        {
          "output_type": "stream",
          "name": "stderr",
          "text": [
            "\n"
          ]
        },
        {
          "output_type": "stream",
          "name": "stdout",
          "text": [
            "\n",
            "      Epoch    GPU_mem   box_loss   cls_loss   dfl_loss  Instances       Size\n"
          ]
        },
        {
          "output_type": "stream",
          "name": "stderr",
          "text": [
            "      49/50         0G     0.6548      1.052      1.089         14        640: 100%|██████████| 30/30 [12:08<00:00, 24.29s/it]\n",
            "                 Class     Images  Instances      Box(P          R      mAP50  mAP50-95): 100%|██████████| 2/2 [00:28<00:00, 14.27s/it]"
          ]
        },
        {
          "output_type": "stream",
          "name": "stdout",
          "text": [
            "                   all         60        117       0.92       0.84      0.918      0.683\n"
          ]
        },
        {
          "output_type": "stream",
          "name": "stderr",
          "text": [
            "\n"
          ]
        },
        {
          "output_type": "stream",
          "name": "stdout",
          "text": [
            "\n",
            "      Epoch    GPU_mem   box_loss   cls_loss   dfl_loss  Instances       Size\n"
          ]
        },
        {
          "output_type": "stream",
          "name": "stderr",
          "text": [
            "      50/50         0G     0.6555      1.214        1.1         12        640: 100%|██████████| 30/30 [12:08<00:00, 24.28s/it]\n",
            "                 Class     Images  Instances      Box(P          R      mAP50  mAP50-95): 100%|██████████| 2/2 [00:27<00:00, 13.98s/it]"
          ]
        },
        {
          "output_type": "stream",
          "name": "stdout",
          "text": [
            "                   all         60        117      0.911      0.838      0.924      0.686\n"
          ]
        },
        {
          "output_type": "stream",
          "name": "stderr",
          "text": [
            "\n"
          ]
        },
        {
          "output_type": "stream",
          "name": "stdout",
          "text": [
            "\n",
            "50 epochs completed in 10.573 hours.\n",
            "Optimizer stripped from /content/gdrive/MyDrive/AI/yolo_runs/yolov8s_results/weights/last.pt, 22.5MB\n",
            "Optimizer stripped from /content/gdrive/MyDrive/AI/yolo_runs/yolov8s_results/weights/best.pt, 22.5MB\n",
            "\n",
            "Validating /content/gdrive/MyDrive/AI/yolo_runs/yolov8s_results/weights/best.pt...\n",
            "Ultralytics 8.3.145 🚀 Python-3.11.12 torch-2.6.0+cu124 CPU (AMD EPYC 7B12)\n",
            "Model summary (fused): 72 layers, 11,126,745 parameters, 0 gradients, 28.4 GFLOPs\n"
          ]
        },
        {
          "output_type": "stream",
          "name": "stderr",
          "text": [
            "                 Class     Images  Instances      Box(P          R      mAP50  mAP50-95): 100%|██████████| 2/2 [00:28<00:00, 14.21s/it]\n"
          ]
        },
        {
          "output_type": "stream",
          "name": "stdout",
          "text": [
            "                   all         60        117      0.907      0.841      0.924      0.687\n",
            "                 apple         24         35      0.866      0.886      0.923      0.755\n",
            "                orange         22         42      0.972      0.838      0.945      0.744\n",
            "                banana         22         40      0.884        0.8      0.905      0.563\n",
            "Speed: 1.2ms preprocess, 448.1ms inference, 0.0ms loss, 0.3ms postprocess per image\n",
            "Results saved to \u001b[1m/content/gdrive/MyDrive/AI/yolo_runs/yolov8s_results\u001b[0m\n"
          ]
        },
        {
          "output_type": "execute_result",
          "data": {
            "text/plain": [
              "ultralytics.utils.metrics.DetMetrics object with attributes:\n",
              "\n",
              "ap_class_index: array([0, 1, 2])\n",
              "box: ultralytics.utils.metrics.Metric object\n",
              "confusion_matrix: <ultralytics.utils.metrics.ConfusionMatrix object at 0x7eba7f409190>\n",
              "curves: ['Precision-Recall(B)', 'F1-Confidence(B)', 'Precision-Confidence(B)', 'Recall-Confidence(B)']\n",
              "curves_results: [[array([          0,    0.001001,    0.002002,    0.003003,    0.004004,    0.005005,    0.006006,    0.007007,    0.008008,    0.009009,     0.01001,    0.011011,    0.012012,    0.013013,    0.014014,    0.015015,    0.016016,    0.017017,    0.018018,    0.019019,     0.02002,    0.021021,    0.022022,    0.023023,\n",
              "          0.024024,    0.025025,    0.026026,    0.027027,    0.028028,    0.029029,     0.03003,    0.031031,    0.032032,    0.033033,    0.034034,    0.035035,    0.036036,    0.037037,    0.038038,    0.039039,     0.04004,    0.041041,    0.042042,    0.043043,    0.044044,    0.045045,    0.046046,    0.047047,\n",
              "          0.048048,    0.049049,     0.05005,    0.051051,    0.052052,    0.053053,    0.054054,    0.055055,    0.056056,    0.057057,    0.058058,    0.059059,     0.06006,    0.061061,    0.062062,    0.063063,    0.064064,    0.065065,    0.066066,    0.067067,    0.068068,    0.069069,     0.07007,    0.071071,\n",
              "          0.072072,    0.073073,    0.074074,    0.075075,    0.076076,    0.077077,    0.078078,    0.079079,     0.08008,    0.081081,    0.082082,    0.083083,    0.084084,    0.085085,    0.086086,    0.087087,    0.088088,    0.089089,     0.09009,    0.091091,    0.092092,    0.093093,    0.094094,    0.095095,\n",
              "          0.096096,    0.097097,    0.098098,    0.099099,      0.1001,      0.1011,      0.1021,      0.1031,      0.1041,     0.10511,     0.10611,     0.10711,     0.10811,     0.10911,     0.11011,     0.11111,     0.11211,     0.11311,     0.11411,     0.11512,     0.11612,     0.11712,     0.11812,     0.11912,\n",
              "           0.12012,     0.12112,     0.12212,     0.12312,     0.12412,     0.12513,     0.12613,     0.12713,     0.12813,     0.12913,     0.13013,     0.13113,     0.13213,     0.13313,     0.13413,     0.13514,     0.13614,     0.13714,     0.13814,     0.13914,     0.14014,     0.14114,     0.14214,     0.14314,\n",
              "           0.14414,     0.14515,     0.14615,     0.14715,     0.14815,     0.14915,     0.15015,     0.15115,     0.15215,     0.15315,     0.15415,     0.15516,     0.15616,     0.15716,     0.15816,     0.15916,     0.16016,     0.16116,     0.16216,     0.16316,     0.16416,     0.16517,     0.16617,     0.16717,\n",
              "           0.16817,     0.16917,     0.17017,     0.17117,     0.17217,     0.17317,     0.17417,     0.17518,     0.17618,     0.17718,     0.17818,     0.17918,     0.18018,     0.18118,     0.18218,     0.18318,     0.18418,     0.18519,     0.18619,     0.18719,     0.18819,     0.18919,     0.19019,     0.19119,\n",
              "           0.19219,     0.19319,     0.19419,      0.1952,      0.1962,      0.1972,      0.1982,      0.1992,      0.2002,      0.2012,      0.2022,      0.2032,      0.2042,     0.20521,     0.20621,     0.20721,     0.20821,     0.20921,     0.21021,     0.21121,     0.21221,     0.21321,     0.21421,     0.21522,\n",
              "           0.21622,     0.21722,     0.21822,     0.21922,     0.22022,     0.22122,     0.22222,     0.22322,     0.22422,     0.22523,     0.22623,     0.22723,     0.22823,     0.22923,     0.23023,     0.23123,     0.23223,     0.23323,     0.23423,     0.23524,     0.23624,     0.23724,     0.23824,     0.23924,\n",
              "           0.24024,     0.24124,     0.24224,     0.24324,     0.24424,     0.24525,     0.24625,     0.24725,     0.24825,     0.24925,     0.25025,     0.25125,     0.25225,     0.25325,     0.25425,     0.25526,     0.25626,     0.25726,     0.25826,     0.25926,     0.26026,     0.26126,     0.26226,     0.26326,\n",
              "           0.26426,     0.26527,     0.26627,     0.26727,     0.26827,     0.26927,     0.27027,     0.27127,     0.27227,     0.27327,     0.27427,     0.27528,     0.27628,     0.27728,     0.27828,     0.27928,     0.28028,     0.28128,     0.28228,     0.28328,     0.28428,     0.28529,     0.28629,     0.28729,\n",
              "           0.28829,     0.28929,     0.29029,     0.29129,     0.29229,     0.29329,     0.29429,      0.2953,      0.2963,      0.2973,      0.2983,      0.2993,      0.3003,      0.3013,      0.3023,      0.3033,      0.3043,     0.30531,     0.30631,     0.30731,     0.30831,     0.30931,     0.31031,     0.31131,\n",
              "           0.31231,     0.31331,     0.31431,     0.31532,     0.31632,     0.31732,     0.31832,     0.31932,     0.32032,     0.32132,     0.32232,     0.32332,     0.32432,     0.32533,     0.32633,     0.32733,     0.32833,     0.32933,     0.33033,     0.33133,     0.33233,     0.33333,     0.33433,     0.33534,\n",
              "           0.33634,     0.33734,     0.33834,     0.33934,     0.34034,     0.34134,     0.34234,     0.34334,     0.34434,     0.34535,     0.34635,     0.34735,     0.34835,     0.34935,     0.35035,     0.35135,     0.35235,     0.35335,     0.35435,     0.35536,     0.35636,     0.35736,     0.35836,     0.35936,\n",
              "           0.36036,     0.36136,     0.36236,     0.36336,     0.36436,     0.36537,     0.36637,     0.36737,     0.36837,     0.36937,     0.37037,     0.37137,     0.37237,     0.37337,     0.37437,     0.37538,     0.37638,     0.37738,     0.37838,     0.37938,     0.38038,     0.38138,     0.38238,     0.38338,\n",
              "           0.38438,     0.38539,     0.38639,     0.38739,     0.38839,     0.38939,     0.39039,     0.39139,     0.39239,     0.39339,     0.39439,      0.3954,      0.3964,      0.3974,      0.3984,      0.3994,      0.4004,      0.4014,      0.4024,      0.4034,      0.4044,     0.40541,     0.40641,     0.40741,\n",
              "           0.40841,     0.40941,     0.41041,     0.41141,     0.41241,     0.41341,     0.41441,     0.41542,     0.41642,     0.41742,     0.41842,     0.41942,     0.42042,     0.42142,     0.42242,     0.42342,     0.42442,     0.42543,     0.42643,     0.42743,     0.42843,     0.42943,     0.43043,     0.43143,\n",
              "           0.43243,     0.43343,     0.43443,     0.43544,     0.43644,     0.43744,     0.43844,     0.43944,     0.44044,     0.44144,     0.44244,     0.44344,     0.44444,     0.44545,     0.44645,     0.44745,     0.44845,     0.44945,     0.45045,     0.45145,     0.45245,     0.45345,     0.45445,     0.45546,\n",
              "           0.45646,     0.45746,     0.45846,     0.45946,     0.46046,     0.46146,     0.46246,     0.46346,     0.46446,     0.46547,     0.46647,     0.46747,     0.46847,     0.46947,     0.47047,     0.47147,     0.47247,     0.47347,     0.47447,     0.47548,     0.47648,     0.47748,     0.47848,     0.47948,\n",
              "           0.48048,     0.48148,     0.48248,     0.48348,     0.48448,     0.48549,     0.48649,     0.48749,     0.48849,     0.48949,     0.49049,     0.49149,     0.49249,     0.49349,     0.49449,      0.4955,      0.4965,      0.4975,      0.4985,      0.4995,      0.5005,      0.5015,      0.5025,      0.5035,\n",
              "            0.5045,     0.50551,     0.50651,     0.50751,     0.50851,     0.50951,     0.51051,     0.51151,     0.51251,     0.51351,     0.51451,     0.51552,     0.51652,     0.51752,     0.51852,     0.51952,     0.52052,     0.52152,     0.52252,     0.52352,     0.52452,     0.52553,     0.52653,     0.52753,\n",
              "           0.52853,     0.52953,     0.53053,     0.53153,     0.53253,     0.53353,     0.53453,     0.53554,     0.53654,     0.53754,     0.53854,     0.53954,     0.54054,     0.54154,     0.54254,     0.54354,     0.54454,     0.54555,     0.54655,     0.54755,     0.54855,     0.54955,     0.55055,     0.55155,\n",
              "           0.55255,     0.55355,     0.55455,     0.55556,     0.55656,     0.55756,     0.55856,     0.55956,     0.56056,     0.56156,     0.56256,     0.56356,     0.56456,     0.56557,     0.56657,     0.56757,     0.56857,     0.56957,     0.57057,     0.57157,     0.57257,     0.57357,     0.57457,     0.57558,\n",
              "           0.57658,     0.57758,     0.57858,     0.57958,     0.58058,     0.58158,     0.58258,     0.58358,     0.58458,     0.58559,     0.58659,     0.58759,     0.58859,     0.58959,     0.59059,     0.59159,     0.59259,     0.59359,     0.59459,      0.5956,      0.5966,      0.5976,      0.5986,      0.5996,\n",
              "            0.6006,      0.6016,      0.6026,      0.6036,      0.6046,     0.60561,     0.60661,     0.60761,     0.60861,     0.60961,     0.61061,     0.61161,     0.61261,     0.61361,     0.61461,     0.61562,     0.61662,     0.61762,     0.61862,     0.61962,     0.62062,     0.62162,     0.62262,     0.62362,\n",
              "           0.62462,     0.62563,     0.62663,     0.62763,     0.62863,     0.62963,     0.63063,     0.63163,     0.63263,     0.63363,     0.63463,     0.63564,     0.63664,     0.63764,     0.63864,     0.63964,     0.64064,     0.64164,     0.64264,     0.64364,     0.64464,     0.64565,     0.64665,     0.64765,\n",
              "           0.64865,     0.64965,     0.65065,     0.65165,     0.65265,     0.65365,     0.65465,     0.65566,     0.65666,     0.65766,     0.65866,     0.65966,     0.66066,     0.66166,     0.66266,     0.66366,     0.66466,     0.66567,     0.66667,     0.66767,     0.66867,     0.66967,     0.67067,     0.67167,\n",
              "           0.67267,     0.67367,     0.67467,     0.67568,     0.67668,     0.67768,     0.67868,     0.67968,     0.68068,     0.68168,     0.68268,     0.68368,     0.68468,     0.68569,     0.68669,     0.68769,     0.68869,     0.68969,     0.69069,     0.69169,     0.69269,     0.69369,     0.69469,      0.6957,\n",
              "            0.6967,      0.6977,      0.6987,      0.6997,      0.7007,      0.7017,      0.7027,      0.7037,      0.7047,     0.70571,     0.70671,     0.70771,     0.70871,     0.70971,     0.71071,     0.71171,     0.71271,     0.71371,     0.71471,     0.71572,     0.71672,     0.71772,     0.71872,     0.71972,\n",
              "           0.72072,     0.72172,     0.72272,     0.72372,     0.72472,     0.72573,     0.72673,     0.72773,     0.72873,     0.72973,     0.73073,     0.73173,     0.73273,     0.73373,     0.73473,     0.73574,     0.73674,     0.73774,     0.73874,     0.73974,     0.74074,     0.74174,     0.74274,     0.74374,\n",
              "           0.74474,     0.74575,     0.74675,     0.74775,     0.74875,     0.74975,     0.75075,     0.75175,     0.75275,     0.75375,     0.75475,     0.75576,     0.75676,     0.75776,     0.75876,     0.75976,     0.76076,     0.76176,     0.76276,     0.76376,     0.76476,     0.76577,     0.76677,     0.76777,\n",
              "           0.76877,     0.76977,     0.77077,     0.77177,     0.77277,     0.77377,     0.77477,     0.77578,     0.77678,     0.77778,     0.77878,     0.77978,     0.78078,     0.78178,     0.78278,     0.78378,     0.78478,     0.78579,     0.78679,     0.78779,     0.78879,     0.78979,     0.79079,     0.79179,\n",
              "           0.79279,     0.79379,     0.79479,      0.7958,      0.7968,      0.7978,      0.7988,      0.7998,      0.8008,      0.8018,      0.8028,      0.8038,      0.8048,     0.80581,     0.80681,     0.80781,     0.80881,     0.80981,     0.81081,     0.81181,     0.81281,     0.81381,     0.81481,     0.81582,\n",
              "           0.81682,     0.81782,     0.81882,     0.81982,     0.82082,     0.82182,     0.82282,     0.82382,     0.82482,     0.82583,     0.82683,     0.82783,     0.82883,     0.82983,     0.83083,     0.83183,     0.83283,     0.83383,     0.83483,     0.83584,     0.83684,     0.83784,     0.83884,     0.83984,\n",
              "           0.84084,     0.84184,     0.84284,     0.84384,     0.84484,     0.84585,     0.84685,     0.84785,     0.84885,     0.84985,     0.85085,     0.85185,     0.85285,     0.85385,     0.85485,     0.85586,     0.85686,     0.85786,     0.85886,     0.85986,     0.86086,     0.86186,     0.86286,     0.86386,\n",
              "           0.86486,     0.86587,     0.86687,     0.86787,     0.86887,     0.86987,     0.87087,     0.87187,     0.87287,     0.87387,     0.87487,     0.87588,     0.87688,     0.87788,     0.87888,     0.87988,     0.88088,     0.88188,     0.88288,     0.88388,     0.88488,     0.88589,     0.88689,     0.88789,\n",
              "           0.88889,     0.88989,     0.89089,     0.89189,     0.89289,     0.89389,     0.89489,      0.8959,      0.8969,      0.8979,      0.8989,      0.8999,      0.9009,      0.9019,      0.9029,      0.9039,      0.9049,     0.90591,     0.90691,     0.90791,     0.90891,     0.90991,     0.91091,     0.91191,\n",
              "           0.91291,     0.91391,     0.91491,     0.91592,     0.91692,     0.91792,     0.91892,     0.91992,     0.92092,     0.92192,     0.92292,     0.92392,     0.92492,     0.92593,     0.92693,     0.92793,     0.92893,     0.92993,     0.93093,     0.93193,     0.93293,     0.93393,     0.93493,     0.93594,\n",
              "           0.93694,     0.93794,     0.93894,     0.93994,     0.94094,     0.94194,     0.94294,     0.94394,     0.94494,     0.94595,     0.94695,     0.94795,     0.94895,     0.94995,     0.95095,     0.95195,     0.95295,     0.95395,     0.95495,     0.95596,     0.95696,     0.95796,     0.95896,     0.95996,\n",
              "           0.96096,     0.96196,     0.96296,     0.96396,     0.96496,     0.96597,     0.96697,     0.96797,     0.96897,     0.96997,     0.97097,     0.97197,     0.97297,     0.97397,     0.97497,     0.97598,     0.97698,     0.97798,     0.97898,     0.97998,     0.98098,     0.98198,     0.98298,     0.98398,\n",
              "           0.98498,     0.98599,     0.98699,     0.98799,     0.98899,     0.98999,     0.99099,     0.99199,     0.99299,     0.99399,     0.99499,       0.996,       0.997,       0.998,       0.999,           1]), array([[          1,           1,           1, ...,     0.39326,     0.39326,           0],\n",
              "       [          1,           1,           1, ...,    0.037069,    0.018535,           0],\n",
              "       [          1,           1,           1, ...,    0.014261,   0.0071304,           0]]), 'Recall', 'Precision'], [array([          0,    0.001001,    0.002002,    0.003003,    0.004004,    0.005005,    0.006006,    0.007007,    0.008008,    0.009009,     0.01001,    0.011011,    0.012012,    0.013013,    0.014014,    0.015015,    0.016016,    0.017017,    0.018018,    0.019019,     0.02002,    0.021021,    0.022022,    0.023023,\n",
              "          0.024024,    0.025025,    0.026026,    0.027027,    0.028028,    0.029029,     0.03003,    0.031031,    0.032032,    0.033033,    0.034034,    0.035035,    0.036036,    0.037037,    0.038038,    0.039039,     0.04004,    0.041041,    0.042042,    0.043043,    0.044044,    0.045045,    0.046046,    0.047047,\n",
              "          0.048048,    0.049049,     0.05005,    0.051051,    0.052052,    0.053053,    0.054054,    0.055055,    0.056056,    0.057057,    0.058058,    0.059059,     0.06006,    0.061061,    0.062062,    0.063063,    0.064064,    0.065065,    0.066066,    0.067067,    0.068068,    0.069069,     0.07007,    0.071071,\n",
              "          0.072072,    0.073073,    0.074074,    0.075075,    0.076076,    0.077077,    0.078078,    0.079079,     0.08008,    0.081081,    0.082082,    0.083083,    0.084084,    0.085085,    0.086086,    0.087087,    0.088088,    0.089089,     0.09009,    0.091091,    0.092092,    0.093093,    0.094094,    0.095095,\n",
              "          0.096096,    0.097097,    0.098098,    0.099099,      0.1001,      0.1011,      0.1021,      0.1031,      0.1041,     0.10511,     0.10611,     0.10711,     0.10811,     0.10911,     0.11011,     0.11111,     0.11211,     0.11311,     0.11411,     0.11512,     0.11612,     0.11712,     0.11812,     0.11912,\n",
              "           0.12012,     0.12112,     0.12212,     0.12312,     0.12412,     0.12513,     0.12613,     0.12713,     0.12813,     0.12913,     0.13013,     0.13113,     0.13213,     0.13313,     0.13413,     0.13514,     0.13614,     0.13714,     0.13814,     0.13914,     0.14014,     0.14114,     0.14214,     0.14314,\n",
              "           0.14414,     0.14515,     0.14615,     0.14715,     0.14815,     0.14915,     0.15015,     0.15115,     0.15215,     0.15315,     0.15415,     0.15516,     0.15616,     0.15716,     0.15816,     0.15916,     0.16016,     0.16116,     0.16216,     0.16316,     0.16416,     0.16517,     0.16617,     0.16717,\n",
              "           0.16817,     0.16917,     0.17017,     0.17117,     0.17217,     0.17317,     0.17417,     0.17518,     0.17618,     0.17718,     0.17818,     0.17918,     0.18018,     0.18118,     0.18218,     0.18318,     0.18418,     0.18519,     0.18619,     0.18719,     0.18819,     0.18919,     0.19019,     0.19119,\n",
              "           0.19219,     0.19319,     0.19419,      0.1952,      0.1962,      0.1972,      0.1982,      0.1992,      0.2002,      0.2012,      0.2022,      0.2032,      0.2042,     0.20521,     0.20621,     0.20721,     0.20821,     0.20921,     0.21021,     0.21121,     0.21221,     0.21321,     0.21421,     0.21522,\n",
              "           0.21622,     0.21722,     0.21822,     0.21922,     0.22022,     0.22122,     0.22222,     0.22322,     0.22422,     0.22523,     0.22623,     0.22723,     0.22823,     0.22923,     0.23023,     0.23123,     0.23223,     0.23323,     0.23423,     0.23524,     0.23624,     0.23724,     0.23824,     0.23924,\n",
              "           0.24024,     0.24124,     0.24224,     0.24324,     0.24424,     0.24525,     0.24625,     0.24725,     0.24825,     0.24925,     0.25025,     0.25125,     0.25225,     0.25325,     0.25425,     0.25526,     0.25626,     0.25726,     0.25826,     0.25926,     0.26026,     0.26126,     0.26226,     0.26326,\n",
              "           0.26426,     0.26527,     0.26627,     0.26727,     0.26827,     0.26927,     0.27027,     0.27127,     0.27227,     0.27327,     0.27427,     0.27528,     0.27628,     0.27728,     0.27828,     0.27928,     0.28028,     0.28128,     0.28228,     0.28328,     0.28428,     0.28529,     0.28629,     0.28729,\n",
              "           0.28829,     0.28929,     0.29029,     0.29129,     0.29229,     0.29329,     0.29429,      0.2953,      0.2963,      0.2973,      0.2983,      0.2993,      0.3003,      0.3013,      0.3023,      0.3033,      0.3043,     0.30531,     0.30631,     0.30731,     0.30831,     0.30931,     0.31031,     0.31131,\n",
              "           0.31231,     0.31331,     0.31431,     0.31532,     0.31632,     0.31732,     0.31832,     0.31932,     0.32032,     0.32132,     0.32232,     0.32332,     0.32432,     0.32533,     0.32633,     0.32733,     0.32833,     0.32933,     0.33033,     0.33133,     0.33233,     0.33333,     0.33433,     0.33534,\n",
              "           0.33634,     0.33734,     0.33834,     0.33934,     0.34034,     0.34134,     0.34234,     0.34334,     0.34434,     0.34535,     0.34635,     0.34735,     0.34835,     0.34935,     0.35035,     0.35135,     0.35235,     0.35335,     0.35435,     0.35536,     0.35636,     0.35736,     0.35836,     0.35936,\n",
              "           0.36036,     0.36136,     0.36236,     0.36336,     0.36436,     0.36537,     0.36637,     0.36737,     0.36837,     0.36937,     0.37037,     0.37137,     0.37237,     0.37337,     0.37437,     0.37538,     0.37638,     0.37738,     0.37838,     0.37938,     0.38038,     0.38138,     0.38238,     0.38338,\n",
              "           0.38438,     0.38539,     0.38639,     0.38739,     0.38839,     0.38939,     0.39039,     0.39139,     0.39239,     0.39339,     0.39439,      0.3954,      0.3964,      0.3974,      0.3984,      0.3994,      0.4004,      0.4014,      0.4024,      0.4034,      0.4044,     0.40541,     0.40641,     0.40741,\n",
              "           0.40841,     0.40941,     0.41041,     0.41141,     0.41241,     0.41341,     0.41441,     0.41542,     0.41642,     0.41742,     0.41842,     0.41942,     0.42042,     0.42142,     0.42242,     0.42342,     0.42442,     0.42543,     0.42643,     0.42743,     0.42843,     0.42943,     0.43043,     0.43143,\n",
              "           0.43243,     0.43343,     0.43443,     0.43544,     0.43644,     0.43744,     0.43844,     0.43944,     0.44044,     0.44144,     0.44244,     0.44344,     0.44444,     0.44545,     0.44645,     0.44745,     0.44845,     0.44945,     0.45045,     0.45145,     0.45245,     0.45345,     0.45445,     0.45546,\n",
              "           0.45646,     0.45746,     0.45846,     0.45946,     0.46046,     0.46146,     0.46246,     0.46346,     0.46446,     0.46547,     0.46647,     0.46747,     0.46847,     0.46947,     0.47047,     0.47147,     0.47247,     0.47347,     0.47447,     0.47548,     0.47648,     0.47748,     0.47848,     0.47948,\n",
              "           0.48048,     0.48148,     0.48248,     0.48348,     0.48448,     0.48549,     0.48649,     0.48749,     0.48849,     0.48949,     0.49049,     0.49149,     0.49249,     0.49349,     0.49449,      0.4955,      0.4965,      0.4975,      0.4985,      0.4995,      0.5005,      0.5015,      0.5025,      0.5035,\n",
              "            0.5045,     0.50551,     0.50651,     0.50751,     0.50851,     0.50951,     0.51051,     0.51151,     0.51251,     0.51351,     0.51451,     0.51552,     0.51652,     0.51752,     0.51852,     0.51952,     0.52052,     0.52152,     0.52252,     0.52352,     0.52452,     0.52553,     0.52653,     0.52753,\n",
              "           0.52853,     0.52953,     0.53053,     0.53153,     0.53253,     0.53353,     0.53453,     0.53554,     0.53654,     0.53754,     0.53854,     0.53954,     0.54054,     0.54154,     0.54254,     0.54354,     0.54454,     0.54555,     0.54655,     0.54755,     0.54855,     0.54955,     0.55055,     0.55155,\n",
              "           0.55255,     0.55355,     0.55455,     0.55556,     0.55656,     0.55756,     0.55856,     0.55956,     0.56056,     0.56156,     0.56256,     0.56356,     0.56456,     0.56557,     0.56657,     0.56757,     0.56857,     0.56957,     0.57057,     0.57157,     0.57257,     0.57357,     0.57457,     0.57558,\n",
              "           0.57658,     0.57758,     0.57858,     0.57958,     0.58058,     0.58158,     0.58258,     0.58358,     0.58458,     0.58559,     0.58659,     0.58759,     0.58859,     0.58959,     0.59059,     0.59159,     0.59259,     0.59359,     0.59459,      0.5956,      0.5966,      0.5976,      0.5986,      0.5996,\n",
              "            0.6006,      0.6016,      0.6026,      0.6036,      0.6046,     0.60561,     0.60661,     0.60761,     0.60861,     0.60961,     0.61061,     0.61161,     0.61261,     0.61361,     0.61461,     0.61562,     0.61662,     0.61762,     0.61862,     0.61962,     0.62062,     0.62162,     0.62262,     0.62362,\n",
              "           0.62462,     0.62563,     0.62663,     0.62763,     0.62863,     0.62963,     0.63063,     0.63163,     0.63263,     0.63363,     0.63463,     0.63564,     0.63664,     0.63764,     0.63864,     0.63964,     0.64064,     0.64164,     0.64264,     0.64364,     0.64464,     0.64565,     0.64665,     0.64765,\n",
              "           0.64865,     0.64965,     0.65065,     0.65165,     0.65265,     0.65365,     0.65465,     0.65566,     0.65666,     0.65766,     0.65866,     0.65966,     0.66066,     0.66166,     0.66266,     0.66366,     0.66466,     0.66567,     0.66667,     0.66767,     0.66867,     0.66967,     0.67067,     0.67167,\n",
              "           0.67267,     0.67367,     0.67467,     0.67568,     0.67668,     0.67768,     0.67868,     0.67968,     0.68068,     0.68168,     0.68268,     0.68368,     0.68468,     0.68569,     0.68669,     0.68769,     0.68869,     0.68969,     0.69069,     0.69169,     0.69269,     0.69369,     0.69469,      0.6957,\n",
              "            0.6967,      0.6977,      0.6987,      0.6997,      0.7007,      0.7017,      0.7027,      0.7037,      0.7047,     0.70571,     0.70671,     0.70771,     0.70871,     0.70971,     0.71071,     0.71171,     0.71271,     0.71371,     0.71471,     0.71572,     0.71672,     0.71772,     0.71872,     0.71972,\n",
              "           0.72072,     0.72172,     0.72272,     0.72372,     0.72472,     0.72573,     0.72673,     0.72773,     0.72873,     0.72973,     0.73073,     0.73173,     0.73273,     0.73373,     0.73473,     0.73574,     0.73674,     0.73774,     0.73874,     0.73974,     0.74074,     0.74174,     0.74274,     0.74374,\n",
              "           0.74474,     0.74575,     0.74675,     0.74775,     0.74875,     0.74975,     0.75075,     0.75175,     0.75275,     0.75375,     0.75475,     0.75576,     0.75676,     0.75776,     0.75876,     0.75976,     0.76076,     0.76176,     0.76276,     0.76376,     0.76476,     0.76577,     0.76677,     0.76777,\n",
              "           0.76877,     0.76977,     0.77077,     0.77177,     0.77277,     0.77377,     0.77477,     0.77578,     0.77678,     0.77778,     0.77878,     0.77978,     0.78078,     0.78178,     0.78278,     0.78378,     0.78478,     0.78579,     0.78679,     0.78779,     0.78879,     0.78979,     0.79079,     0.79179,\n",
              "           0.79279,     0.79379,     0.79479,      0.7958,      0.7968,      0.7978,      0.7988,      0.7998,      0.8008,      0.8018,      0.8028,      0.8038,      0.8048,     0.80581,     0.80681,     0.80781,     0.80881,     0.80981,     0.81081,     0.81181,     0.81281,     0.81381,     0.81481,     0.81582,\n",
              "           0.81682,     0.81782,     0.81882,     0.81982,     0.82082,     0.82182,     0.82282,     0.82382,     0.82482,     0.82583,     0.82683,     0.82783,     0.82883,     0.82983,     0.83083,     0.83183,     0.83283,     0.83383,     0.83483,     0.83584,     0.83684,     0.83784,     0.83884,     0.83984,\n",
              "           0.84084,     0.84184,     0.84284,     0.84384,     0.84484,     0.84585,     0.84685,     0.84785,     0.84885,     0.84985,     0.85085,     0.85185,     0.85285,     0.85385,     0.85485,     0.85586,     0.85686,     0.85786,     0.85886,     0.85986,     0.86086,     0.86186,     0.86286,     0.86386,\n",
              "           0.86486,     0.86587,     0.86687,     0.86787,     0.86887,     0.86987,     0.87087,     0.87187,     0.87287,     0.87387,     0.87487,     0.87588,     0.87688,     0.87788,     0.87888,     0.87988,     0.88088,     0.88188,     0.88288,     0.88388,     0.88488,     0.88589,     0.88689,     0.88789,\n",
              "           0.88889,     0.88989,     0.89089,     0.89189,     0.89289,     0.89389,     0.89489,      0.8959,      0.8969,      0.8979,      0.8989,      0.8999,      0.9009,      0.9019,      0.9029,      0.9039,      0.9049,     0.90591,     0.90691,     0.90791,     0.90891,     0.90991,     0.91091,     0.91191,\n",
              "           0.91291,     0.91391,     0.91491,     0.91592,     0.91692,     0.91792,     0.91892,     0.91992,     0.92092,     0.92192,     0.92292,     0.92392,     0.92492,     0.92593,     0.92693,     0.92793,     0.92893,     0.92993,     0.93093,     0.93193,     0.93293,     0.93393,     0.93493,     0.93594,\n",
              "           0.93694,     0.93794,     0.93894,     0.93994,     0.94094,     0.94194,     0.94294,     0.94394,     0.94494,     0.94595,     0.94695,     0.94795,     0.94895,     0.94995,     0.95095,     0.95195,     0.95295,     0.95395,     0.95495,     0.95596,     0.95696,     0.95796,     0.95896,     0.95996,\n",
              "           0.96096,     0.96196,     0.96296,     0.96396,     0.96496,     0.96597,     0.96697,     0.96797,     0.96897,     0.96997,     0.97097,     0.97197,     0.97297,     0.97397,     0.97497,     0.97598,     0.97698,     0.97798,     0.97898,     0.97998,     0.98098,     0.98198,     0.98298,     0.98398,\n",
              "           0.98498,     0.98599,     0.98699,     0.98799,     0.98899,     0.98999,     0.99099,     0.99199,     0.99299,     0.99399,     0.99499,       0.996,       0.997,       0.998,       0.999,           1]), array([[    0.38251,     0.38251,     0.46638, ...,           0,           0,           0],\n",
              "       [    0.60741,     0.60741,     0.69986, ...,           0,           0,           0],\n",
              "       [    0.30116,     0.30116,     0.40926, ...,           0,           0,           0]]), 'Confidence', 'F1'], [array([          0,    0.001001,    0.002002,    0.003003,    0.004004,    0.005005,    0.006006,    0.007007,    0.008008,    0.009009,     0.01001,    0.011011,    0.012012,    0.013013,    0.014014,    0.015015,    0.016016,    0.017017,    0.018018,    0.019019,     0.02002,    0.021021,    0.022022,    0.023023,\n",
              "          0.024024,    0.025025,    0.026026,    0.027027,    0.028028,    0.029029,     0.03003,    0.031031,    0.032032,    0.033033,    0.034034,    0.035035,    0.036036,    0.037037,    0.038038,    0.039039,     0.04004,    0.041041,    0.042042,    0.043043,    0.044044,    0.045045,    0.046046,    0.047047,\n",
              "          0.048048,    0.049049,     0.05005,    0.051051,    0.052052,    0.053053,    0.054054,    0.055055,    0.056056,    0.057057,    0.058058,    0.059059,     0.06006,    0.061061,    0.062062,    0.063063,    0.064064,    0.065065,    0.066066,    0.067067,    0.068068,    0.069069,     0.07007,    0.071071,\n",
              "          0.072072,    0.073073,    0.074074,    0.075075,    0.076076,    0.077077,    0.078078,    0.079079,     0.08008,    0.081081,    0.082082,    0.083083,    0.084084,    0.085085,    0.086086,    0.087087,    0.088088,    0.089089,     0.09009,    0.091091,    0.092092,    0.093093,    0.094094,    0.095095,\n",
              "          0.096096,    0.097097,    0.098098,    0.099099,      0.1001,      0.1011,      0.1021,      0.1031,      0.1041,     0.10511,     0.10611,     0.10711,     0.10811,     0.10911,     0.11011,     0.11111,     0.11211,     0.11311,     0.11411,     0.11512,     0.11612,     0.11712,     0.11812,     0.11912,\n",
              "           0.12012,     0.12112,     0.12212,     0.12312,     0.12412,     0.12513,     0.12613,     0.12713,     0.12813,     0.12913,     0.13013,     0.13113,     0.13213,     0.13313,     0.13413,     0.13514,     0.13614,     0.13714,     0.13814,     0.13914,     0.14014,     0.14114,     0.14214,     0.14314,\n",
              "           0.14414,     0.14515,     0.14615,     0.14715,     0.14815,     0.14915,     0.15015,     0.15115,     0.15215,     0.15315,     0.15415,     0.15516,     0.15616,     0.15716,     0.15816,     0.15916,     0.16016,     0.16116,     0.16216,     0.16316,     0.16416,     0.16517,     0.16617,     0.16717,\n",
              "           0.16817,     0.16917,     0.17017,     0.17117,     0.17217,     0.17317,     0.17417,     0.17518,     0.17618,     0.17718,     0.17818,     0.17918,     0.18018,     0.18118,     0.18218,     0.18318,     0.18418,     0.18519,     0.18619,     0.18719,     0.18819,     0.18919,     0.19019,     0.19119,\n",
              "           0.19219,     0.19319,     0.19419,      0.1952,      0.1962,      0.1972,      0.1982,      0.1992,      0.2002,      0.2012,      0.2022,      0.2032,      0.2042,     0.20521,     0.20621,     0.20721,     0.20821,     0.20921,     0.21021,     0.21121,     0.21221,     0.21321,     0.21421,     0.21522,\n",
              "           0.21622,     0.21722,     0.21822,     0.21922,     0.22022,     0.22122,     0.22222,     0.22322,     0.22422,     0.22523,     0.22623,     0.22723,     0.22823,     0.22923,     0.23023,     0.23123,     0.23223,     0.23323,     0.23423,     0.23524,     0.23624,     0.23724,     0.23824,     0.23924,\n",
              "           0.24024,     0.24124,     0.24224,     0.24324,     0.24424,     0.24525,     0.24625,     0.24725,     0.24825,     0.24925,     0.25025,     0.25125,     0.25225,     0.25325,     0.25425,     0.25526,     0.25626,     0.25726,     0.25826,     0.25926,     0.26026,     0.26126,     0.26226,     0.26326,\n",
              "           0.26426,     0.26527,     0.26627,     0.26727,     0.26827,     0.26927,     0.27027,     0.27127,     0.27227,     0.27327,     0.27427,     0.27528,     0.27628,     0.27728,     0.27828,     0.27928,     0.28028,     0.28128,     0.28228,     0.28328,     0.28428,     0.28529,     0.28629,     0.28729,\n",
              "           0.28829,     0.28929,     0.29029,     0.29129,     0.29229,     0.29329,     0.29429,      0.2953,      0.2963,      0.2973,      0.2983,      0.2993,      0.3003,      0.3013,      0.3023,      0.3033,      0.3043,     0.30531,     0.30631,     0.30731,     0.30831,     0.30931,     0.31031,     0.31131,\n",
              "           0.31231,     0.31331,     0.31431,     0.31532,     0.31632,     0.31732,     0.31832,     0.31932,     0.32032,     0.32132,     0.32232,     0.32332,     0.32432,     0.32533,     0.32633,     0.32733,     0.32833,     0.32933,     0.33033,     0.33133,     0.33233,     0.33333,     0.33433,     0.33534,\n",
              "           0.33634,     0.33734,     0.33834,     0.33934,     0.34034,     0.34134,     0.34234,     0.34334,     0.34434,     0.34535,     0.34635,     0.34735,     0.34835,     0.34935,     0.35035,     0.35135,     0.35235,     0.35335,     0.35435,     0.35536,     0.35636,     0.35736,     0.35836,     0.35936,\n",
              "           0.36036,     0.36136,     0.36236,     0.36336,     0.36436,     0.36537,     0.36637,     0.36737,     0.36837,     0.36937,     0.37037,     0.37137,     0.37237,     0.37337,     0.37437,     0.37538,     0.37638,     0.37738,     0.37838,     0.37938,     0.38038,     0.38138,     0.38238,     0.38338,\n",
              "           0.38438,     0.38539,     0.38639,     0.38739,     0.38839,     0.38939,     0.39039,     0.39139,     0.39239,     0.39339,     0.39439,      0.3954,      0.3964,      0.3974,      0.3984,      0.3994,      0.4004,      0.4014,      0.4024,      0.4034,      0.4044,     0.40541,     0.40641,     0.40741,\n",
              "           0.40841,     0.40941,     0.41041,     0.41141,     0.41241,     0.41341,     0.41441,     0.41542,     0.41642,     0.41742,     0.41842,     0.41942,     0.42042,     0.42142,     0.42242,     0.42342,     0.42442,     0.42543,     0.42643,     0.42743,     0.42843,     0.42943,     0.43043,     0.43143,\n",
              "           0.43243,     0.43343,     0.43443,     0.43544,     0.43644,     0.43744,     0.43844,     0.43944,     0.44044,     0.44144,     0.44244,     0.44344,     0.44444,     0.44545,     0.44645,     0.44745,     0.44845,     0.44945,     0.45045,     0.45145,     0.45245,     0.45345,     0.45445,     0.45546,\n",
              "           0.45646,     0.45746,     0.45846,     0.45946,     0.46046,     0.46146,     0.46246,     0.46346,     0.46446,     0.46547,     0.46647,     0.46747,     0.46847,     0.46947,     0.47047,     0.47147,     0.47247,     0.47347,     0.47447,     0.47548,     0.47648,     0.47748,     0.47848,     0.47948,\n",
              "           0.48048,     0.48148,     0.48248,     0.48348,     0.48448,     0.48549,     0.48649,     0.48749,     0.48849,     0.48949,     0.49049,     0.49149,     0.49249,     0.49349,     0.49449,      0.4955,      0.4965,      0.4975,      0.4985,      0.4995,      0.5005,      0.5015,      0.5025,      0.5035,\n",
              "            0.5045,     0.50551,     0.50651,     0.50751,     0.50851,     0.50951,     0.51051,     0.51151,     0.51251,     0.51351,     0.51451,     0.51552,     0.51652,     0.51752,     0.51852,     0.51952,     0.52052,     0.52152,     0.52252,     0.52352,     0.52452,     0.52553,     0.52653,     0.52753,\n",
              "           0.52853,     0.52953,     0.53053,     0.53153,     0.53253,     0.53353,     0.53453,     0.53554,     0.53654,     0.53754,     0.53854,     0.53954,     0.54054,     0.54154,     0.54254,     0.54354,     0.54454,     0.54555,     0.54655,     0.54755,     0.54855,     0.54955,     0.55055,     0.55155,\n",
              "           0.55255,     0.55355,     0.55455,     0.55556,     0.55656,     0.55756,     0.55856,     0.55956,     0.56056,     0.56156,     0.56256,     0.56356,     0.56456,     0.56557,     0.56657,     0.56757,     0.56857,     0.56957,     0.57057,     0.57157,     0.57257,     0.57357,     0.57457,     0.57558,\n",
              "           0.57658,     0.57758,     0.57858,     0.57958,     0.58058,     0.58158,     0.58258,     0.58358,     0.58458,     0.58559,     0.58659,     0.58759,     0.58859,     0.58959,     0.59059,     0.59159,     0.59259,     0.59359,     0.59459,      0.5956,      0.5966,      0.5976,      0.5986,      0.5996,\n",
              "            0.6006,      0.6016,      0.6026,      0.6036,      0.6046,     0.60561,     0.60661,     0.60761,     0.60861,     0.60961,     0.61061,     0.61161,     0.61261,     0.61361,     0.61461,     0.61562,     0.61662,     0.61762,     0.61862,     0.61962,     0.62062,     0.62162,     0.62262,     0.62362,\n",
              "           0.62462,     0.62563,     0.62663,     0.62763,     0.62863,     0.62963,     0.63063,     0.63163,     0.63263,     0.63363,     0.63463,     0.63564,     0.63664,     0.63764,     0.63864,     0.63964,     0.64064,     0.64164,     0.64264,     0.64364,     0.64464,     0.64565,     0.64665,     0.64765,\n",
              "           0.64865,     0.64965,     0.65065,     0.65165,     0.65265,     0.65365,     0.65465,     0.65566,     0.65666,     0.65766,     0.65866,     0.65966,     0.66066,     0.66166,     0.66266,     0.66366,     0.66466,     0.66567,     0.66667,     0.66767,     0.66867,     0.66967,     0.67067,     0.67167,\n",
              "           0.67267,     0.67367,     0.67467,     0.67568,     0.67668,     0.67768,     0.67868,     0.67968,     0.68068,     0.68168,     0.68268,     0.68368,     0.68468,     0.68569,     0.68669,     0.68769,     0.68869,     0.68969,     0.69069,     0.69169,     0.69269,     0.69369,     0.69469,      0.6957,\n",
              "            0.6967,      0.6977,      0.6987,      0.6997,      0.7007,      0.7017,      0.7027,      0.7037,      0.7047,     0.70571,     0.70671,     0.70771,     0.70871,     0.70971,     0.71071,     0.71171,     0.71271,     0.71371,     0.71471,     0.71572,     0.71672,     0.71772,     0.71872,     0.71972,\n",
              "           0.72072,     0.72172,     0.72272,     0.72372,     0.72472,     0.72573,     0.72673,     0.72773,     0.72873,     0.72973,     0.73073,     0.73173,     0.73273,     0.73373,     0.73473,     0.73574,     0.73674,     0.73774,     0.73874,     0.73974,     0.74074,     0.74174,     0.74274,     0.74374,\n",
              "           0.74474,     0.74575,     0.74675,     0.74775,     0.74875,     0.74975,     0.75075,     0.75175,     0.75275,     0.75375,     0.75475,     0.75576,     0.75676,     0.75776,     0.75876,     0.75976,     0.76076,     0.76176,     0.76276,     0.76376,     0.76476,     0.76577,     0.76677,     0.76777,\n",
              "           0.76877,     0.76977,     0.77077,     0.77177,     0.77277,     0.77377,     0.77477,     0.77578,     0.77678,     0.77778,     0.77878,     0.77978,     0.78078,     0.78178,     0.78278,     0.78378,     0.78478,     0.78579,     0.78679,     0.78779,     0.78879,     0.78979,     0.79079,     0.79179,\n",
              "           0.79279,     0.79379,     0.79479,      0.7958,      0.7968,      0.7978,      0.7988,      0.7998,      0.8008,      0.8018,      0.8028,      0.8038,      0.8048,     0.80581,     0.80681,     0.80781,     0.80881,     0.80981,     0.81081,     0.81181,     0.81281,     0.81381,     0.81481,     0.81582,\n",
              "           0.81682,     0.81782,     0.81882,     0.81982,     0.82082,     0.82182,     0.82282,     0.82382,     0.82482,     0.82583,     0.82683,     0.82783,     0.82883,     0.82983,     0.83083,     0.83183,     0.83283,     0.83383,     0.83483,     0.83584,     0.83684,     0.83784,     0.83884,     0.83984,\n",
              "           0.84084,     0.84184,     0.84284,     0.84384,     0.84484,     0.84585,     0.84685,     0.84785,     0.84885,     0.84985,     0.85085,     0.85185,     0.85285,     0.85385,     0.85485,     0.85586,     0.85686,     0.85786,     0.85886,     0.85986,     0.86086,     0.86186,     0.86286,     0.86386,\n",
              "           0.86486,     0.86587,     0.86687,     0.86787,     0.86887,     0.86987,     0.87087,     0.87187,     0.87287,     0.87387,     0.87487,     0.87588,     0.87688,     0.87788,     0.87888,     0.87988,     0.88088,     0.88188,     0.88288,     0.88388,     0.88488,     0.88589,     0.88689,     0.88789,\n",
              "           0.88889,     0.88989,     0.89089,     0.89189,     0.89289,     0.89389,     0.89489,      0.8959,      0.8969,      0.8979,      0.8989,      0.8999,      0.9009,      0.9019,      0.9029,      0.9039,      0.9049,     0.90591,     0.90691,     0.90791,     0.90891,     0.90991,     0.91091,     0.91191,\n",
              "           0.91291,     0.91391,     0.91491,     0.91592,     0.91692,     0.91792,     0.91892,     0.91992,     0.92092,     0.92192,     0.92292,     0.92392,     0.92492,     0.92593,     0.92693,     0.92793,     0.92893,     0.92993,     0.93093,     0.93193,     0.93293,     0.93393,     0.93493,     0.93594,\n",
              "           0.93694,     0.93794,     0.93894,     0.93994,     0.94094,     0.94194,     0.94294,     0.94394,     0.94494,     0.94595,     0.94695,     0.94795,     0.94895,     0.94995,     0.95095,     0.95195,     0.95295,     0.95395,     0.95495,     0.95596,     0.95696,     0.95796,     0.95896,     0.95996,\n",
              "           0.96096,     0.96196,     0.96296,     0.96396,     0.96496,     0.96597,     0.96697,     0.96797,     0.96897,     0.96997,     0.97097,     0.97197,     0.97297,     0.97397,     0.97497,     0.97598,     0.97698,     0.97798,     0.97898,     0.97998,     0.98098,     0.98198,     0.98298,     0.98398,\n",
              "           0.98498,     0.98599,     0.98699,     0.98799,     0.98899,     0.98999,     0.99099,     0.99199,     0.99299,     0.99399,     0.99499,       0.996,       0.997,       0.998,       0.999,           1]), array([[    0.23649,     0.23649,     0.30411, ...,           1,           1,           1],\n",
              "       [    0.44086,     0.44086,     0.54545, ...,           1,           1,           1],\n",
              "       [    0.17808,     0.17808,     0.25899, ...,           1,           1,           1]]), 'Confidence', 'Precision'], [array([          0,    0.001001,    0.002002,    0.003003,    0.004004,    0.005005,    0.006006,    0.007007,    0.008008,    0.009009,     0.01001,    0.011011,    0.012012,    0.013013,    0.014014,    0.015015,    0.016016,    0.017017,    0.018018,    0.019019,     0.02002,    0.021021,    0.022022,    0.023023,\n",
              "          0.024024,    0.025025,    0.026026,    0.027027,    0.028028,    0.029029,     0.03003,    0.031031,    0.032032,    0.033033,    0.034034,    0.035035,    0.036036,    0.037037,    0.038038,    0.039039,     0.04004,    0.041041,    0.042042,    0.043043,    0.044044,    0.045045,    0.046046,    0.047047,\n",
              "          0.048048,    0.049049,     0.05005,    0.051051,    0.052052,    0.053053,    0.054054,    0.055055,    0.056056,    0.057057,    0.058058,    0.059059,     0.06006,    0.061061,    0.062062,    0.063063,    0.064064,    0.065065,    0.066066,    0.067067,    0.068068,    0.069069,     0.07007,    0.071071,\n",
              "          0.072072,    0.073073,    0.074074,    0.075075,    0.076076,    0.077077,    0.078078,    0.079079,     0.08008,    0.081081,    0.082082,    0.083083,    0.084084,    0.085085,    0.086086,    0.087087,    0.088088,    0.089089,     0.09009,    0.091091,    0.092092,    0.093093,    0.094094,    0.095095,\n",
              "          0.096096,    0.097097,    0.098098,    0.099099,      0.1001,      0.1011,      0.1021,      0.1031,      0.1041,     0.10511,     0.10611,     0.10711,     0.10811,     0.10911,     0.11011,     0.11111,     0.11211,     0.11311,     0.11411,     0.11512,     0.11612,     0.11712,     0.11812,     0.11912,\n",
              "           0.12012,     0.12112,     0.12212,     0.12312,     0.12412,     0.12513,     0.12613,     0.12713,     0.12813,     0.12913,     0.13013,     0.13113,     0.13213,     0.13313,     0.13413,     0.13514,     0.13614,     0.13714,     0.13814,     0.13914,     0.14014,     0.14114,     0.14214,     0.14314,\n",
              "           0.14414,     0.14515,     0.14615,     0.14715,     0.14815,     0.14915,     0.15015,     0.15115,     0.15215,     0.15315,     0.15415,     0.15516,     0.15616,     0.15716,     0.15816,     0.15916,     0.16016,     0.16116,     0.16216,     0.16316,     0.16416,     0.16517,     0.16617,     0.16717,\n",
              "           0.16817,     0.16917,     0.17017,     0.17117,     0.17217,     0.17317,     0.17417,     0.17518,     0.17618,     0.17718,     0.17818,     0.17918,     0.18018,     0.18118,     0.18218,     0.18318,     0.18418,     0.18519,     0.18619,     0.18719,     0.18819,     0.18919,     0.19019,     0.19119,\n",
              "           0.19219,     0.19319,     0.19419,      0.1952,      0.1962,      0.1972,      0.1982,      0.1992,      0.2002,      0.2012,      0.2022,      0.2032,      0.2042,     0.20521,     0.20621,     0.20721,     0.20821,     0.20921,     0.21021,     0.21121,     0.21221,     0.21321,     0.21421,     0.21522,\n",
              "           0.21622,     0.21722,     0.21822,     0.21922,     0.22022,     0.22122,     0.22222,     0.22322,     0.22422,     0.22523,     0.22623,     0.22723,     0.22823,     0.22923,     0.23023,     0.23123,     0.23223,     0.23323,     0.23423,     0.23524,     0.23624,     0.23724,     0.23824,     0.23924,\n",
              "           0.24024,     0.24124,     0.24224,     0.24324,     0.24424,     0.24525,     0.24625,     0.24725,     0.24825,     0.24925,     0.25025,     0.25125,     0.25225,     0.25325,     0.25425,     0.25526,     0.25626,     0.25726,     0.25826,     0.25926,     0.26026,     0.26126,     0.26226,     0.26326,\n",
              "           0.26426,     0.26527,     0.26627,     0.26727,     0.26827,     0.26927,     0.27027,     0.27127,     0.27227,     0.27327,     0.27427,     0.27528,     0.27628,     0.27728,     0.27828,     0.27928,     0.28028,     0.28128,     0.28228,     0.28328,     0.28428,     0.28529,     0.28629,     0.28729,\n",
              "           0.28829,     0.28929,     0.29029,     0.29129,     0.29229,     0.29329,     0.29429,      0.2953,      0.2963,      0.2973,      0.2983,      0.2993,      0.3003,      0.3013,      0.3023,      0.3033,      0.3043,     0.30531,     0.30631,     0.30731,     0.30831,     0.30931,     0.31031,     0.31131,\n",
              "           0.31231,     0.31331,     0.31431,     0.31532,     0.31632,     0.31732,     0.31832,     0.31932,     0.32032,     0.32132,     0.32232,     0.32332,     0.32432,     0.32533,     0.32633,     0.32733,     0.32833,     0.32933,     0.33033,     0.33133,     0.33233,     0.33333,     0.33433,     0.33534,\n",
              "           0.33634,     0.33734,     0.33834,     0.33934,     0.34034,     0.34134,     0.34234,     0.34334,     0.34434,     0.34535,     0.34635,     0.34735,     0.34835,     0.34935,     0.35035,     0.35135,     0.35235,     0.35335,     0.35435,     0.35536,     0.35636,     0.35736,     0.35836,     0.35936,\n",
              "           0.36036,     0.36136,     0.36236,     0.36336,     0.36436,     0.36537,     0.36637,     0.36737,     0.36837,     0.36937,     0.37037,     0.37137,     0.37237,     0.37337,     0.37437,     0.37538,     0.37638,     0.37738,     0.37838,     0.37938,     0.38038,     0.38138,     0.38238,     0.38338,\n",
              "           0.38438,     0.38539,     0.38639,     0.38739,     0.38839,     0.38939,     0.39039,     0.39139,     0.39239,     0.39339,     0.39439,      0.3954,      0.3964,      0.3974,      0.3984,      0.3994,      0.4004,      0.4014,      0.4024,      0.4034,      0.4044,     0.40541,     0.40641,     0.40741,\n",
              "           0.40841,     0.40941,     0.41041,     0.41141,     0.41241,     0.41341,     0.41441,     0.41542,     0.41642,     0.41742,     0.41842,     0.41942,     0.42042,     0.42142,     0.42242,     0.42342,     0.42442,     0.42543,     0.42643,     0.42743,     0.42843,     0.42943,     0.43043,     0.43143,\n",
              "           0.43243,     0.43343,     0.43443,     0.43544,     0.43644,     0.43744,     0.43844,     0.43944,     0.44044,     0.44144,     0.44244,     0.44344,     0.44444,     0.44545,     0.44645,     0.44745,     0.44845,     0.44945,     0.45045,     0.45145,     0.45245,     0.45345,     0.45445,     0.45546,\n",
              "           0.45646,     0.45746,     0.45846,     0.45946,     0.46046,     0.46146,     0.46246,     0.46346,     0.46446,     0.46547,     0.46647,     0.46747,     0.46847,     0.46947,     0.47047,     0.47147,     0.47247,     0.47347,     0.47447,     0.47548,     0.47648,     0.47748,     0.47848,     0.47948,\n",
              "           0.48048,     0.48148,     0.48248,     0.48348,     0.48448,     0.48549,     0.48649,     0.48749,     0.48849,     0.48949,     0.49049,     0.49149,     0.49249,     0.49349,     0.49449,      0.4955,      0.4965,      0.4975,      0.4985,      0.4995,      0.5005,      0.5015,      0.5025,      0.5035,\n",
              "            0.5045,     0.50551,     0.50651,     0.50751,     0.50851,     0.50951,     0.51051,     0.51151,     0.51251,     0.51351,     0.51451,     0.51552,     0.51652,     0.51752,     0.51852,     0.51952,     0.52052,     0.52152,     0.52252,     0.52352,     0.52452,     0.52553,     0.52653,     0.52753,\n",
              "           0.52853,     0.52953,     0.53053,     0.53153,     0.53253,     0.53353,     0.53453,     0.53554,     0.53654,     0.53754,     0.53854,     0.53954,     0.54054,     0.54154,     0.54254,     0.54354,     0.54454,     0.54555,     0.54655,     0.54755,     0.54855,     0.54955,     0.55055,     0.55155,\n",
              "           0.55255,     0.55355,     0.55455,     0.55556,     0.55656,     0.55756,     0.55856,     0.55956,     0.56056,     0.56156,     0.56256,     0.56356,     0.56456,     0.56557,     0.56657,     0.56757,     0.56857,     0.56957,     0.57057,     0.57157,     0.57257,     0.57357,     0.57457,     0.57558,\n",
              "           0.57658,     0.57758,     0.57858,     0.57958,     0.58058,     0.58158,     0.58258,     0.58358,     0.58458,     0.58559,     0.58659,     0.58759,     0.58859,     0.58959,     0.59059,     0.59159,     0.59259,     0.59359,     0.59459,      0.5956,      0.5966,      0.5976,      0.5986,      0.5996,\n",
              "            0.6006,      0.6016,      0.6026,      0.6036,      0.6046,     0.60561,     0.60661,     0.60761,     0.60861,     0.60961,     0.61061,     0.61161,     0.61261,     0.61361,     0.61461,     0.61562,     0.61662,     0.61762,     0.61862,     0.61962,     0.62062,     0.62162,     0.62262,     0.62362,\n",
              "           0.62462,     0.62563,     0.62663,     0.62763,     0.62863,     0.62963,     0.63063,     0.63163,     0.63263,     0.63363,     0.63463,     0.63564,     0.63664,     0.63764,     0.63864,     0.63964,     0.64064,     0.64164,     0.64264,     0.64364,     0.64464,     0.64565,     0.64665,     0.64765,\n",
              "           0.64865,     0.64965,     0.65065,     0.65165,     0.65265,     0.65365,     0.65465,     0.65566,     0.65666,     0.65766,     0.65866,     0.65966,     0.66066,     0.66166,     0.66266,     0.66366,     0.66466,     0.66567,     0.66667,     0.66767,     0.66867,     0.66967,     0.67067,     0.67167,\n",
              "           0.67267,     0.67367,     0.67467,     0.67568,     0.67668,     0.67768,     0.67868,     0.67968,     0.68068,     0.68168,     0.68268,     0.68368,     0.68468,     0.68569,     0.68669,     0.68769,     0.68869,     0.68969,     0.69069,     0.69169,     0.69269,     0.69369,     0.69469,      0.6957,\n",
              "            0.6967,      0.6977,      0.6987,      0.6997,      0.7007,      0.7017,      0.7027,      0.7037,      0.7047,     0.70571,     0.70671,     0.70771,     0.70871,     0.70971,     0.71071,     0.71171,     0.71271,     0.71371,     0.71471,     0.71572,     0.71672,     0.71772,     0.71872,     0.71972,\n",
              "           0.72072,     0.72172,     0.72272,     0.72372,     0.72472,     0.72573,     0.72673,     0.72773,     0.72873,     0.72973,     0.73073,     0.73173,     0.73273,     0.73373,     0.73473,     0.73574,     0.73674,     0.73774,     0.73874,     0.73974,     0.74074,     0.74174,     0.74274,     0.74374,\n",
              "           0.74474,     0.74575,     0.74675,     0.74775,     0.74875,     0.74975,     0.75075,     0.75175,     0.75275,     0.75375,     0.75475,     0.75576,     0.75676,     0.75776,     0.75876,     0.75976,     0.76076,     0.76176,     0.76276,     0.76376,     0.76476,     0.76577,     0.76677,     0.76777,\n",
              "           0.76877,     0.76977,     0.77077,     0.77177,     0.77277,     0.77377,     0.77477,     0.77578,     0.77678,     0.77778,     0.77878,     0.77978,     0.78078,     0.78178,     0.78278,     0.78378,     0.78478,     0.78579,     0.78679,     0.78779,     0.78879,     0.78979,     0.79079,     0.79179,\n",
              "           0.79279,     0.79379,     0.79479,      0.7958,      0.7968,      0.7978,      0.7988,      0.7998,      0.8008,      0.8018,      0.8028,      0.8038,      0.8048,     0.80581,     0.80681,     0.80781,     0.80881,     0.80981,     0.81081,     0.81181,     0.81281,     0.81381,     0.81481,     0.81582,\n",
              "           0.81682,     0.81782,     0.81882,     0.81982,     0.82082,     0.82182,     0.82282,     0.82382,     0.82482,     0.82583,     0.82683,     0.82783,     0.82883,     0.82983,     0.83083,     0.83183,     0.83283,     0.83383,     0.83483,     0.83584,     0.83684,     0.83784,     0.83884,     0.83984,\n",
              "           0.84084,     0.84184,     0.84284,     0.84384,     0.84484,     0.84585,     0.84685,     0.84785,     0.84885,     0.84985,     0.85085,     0.85185,     0.85285,     0.85385,     0.85485,     0.85586,     0.85686,     0.85786,     0.85886,     0.85986,     0.86086,     0.86186,     0.86286,     0.86386,\n",
              "           0.86486,     0.86587,     0.86687,     0.86787,     0.86887,     0.86987,     0.87087,     0.87187,     0.87287,     0.87387,     0.87487,     0.87588,     0.87688,     0.87788,     0.87888,     0.87988,     0.88088,     0.88188,     0.88288,     0.88388,     0.88488,     0.88589,     0.88689,     0.88789,\n",
              "           0.88889,     0.88989,     0.89089,     0.89189,     0.89289,     0.89389,     0.89489,      0.8959,      0.8969,      0.8979,      0.8989,      0.8999,      0.9009,      0.9019,      0.9029,      0.9039,      0.9049,     0.90591,     0.90691,     0.90791,     0.90891,     0.90991,     0.91091,     0.91191,\n",
              "           0.91291,     0.91391,     0.91491,     0.91592,     0.91692,     0.91792,     0.91892,     0.91992,     0.92092,     0.92192,     0.92292,     0.92392,     0.92492,     0.92593,     0.92693,     0.92793,     0.92893,     0.92993,     0.93093,     0.93193,     0.93293,     0.93393,     0.93493,     0.93594,\n",
              "           0.93694,     0.93794,     0.93894,     0.93994,     0.94094,     0.94194,     0.94294,     0.94394,     0.94494,     0.94595,     0.94695,     0.94795,     0.94895,     0.94995,     0.95095,     0.95195,     0.95295,     0.95395,     0.95495,     0.95596,     0.95696,     0.95796,     0.95896,     0.95996,\n",
              "           0.96096,     0.96196,     0.96296,     0.96396,     0.96496,     0.96597,     0.96697,     0.96797,     0.96897,     0.96997,     0.97097,     0.97197,     0.97297,     0.97397,     0.97497,     0.97598,     0.97698,     0.97798,     0.97898,     0.97998,     0.98098,     0.98198,     0.98298,     0.98398,\n",
              "           0.98498,     0.98599,     0.98699,     0.98799,     0.98899,     0.98999,     0.99099,     0.99199,     0.99299,     0.99399,     0.99499,       0.996,       0.997,       0.998,       0.999,           1]), array([[          1,           1,           1, ...,           0,           0,           0],\n",
              "       [    0.97619,     0.97619,     0.97619, ...,           0,           0,           0],\n",
              "       [      0.975,       0.975,       0.975, ...,           0,           0,           0]]), 'Confidence', 'Recall']]\n",
              "fitness: np.float64(0.7109848381351395)\n",
              "keys: ['metrics/precision(B)', 'metrics/recall(B)', 'metrics/mAP50(B)', 'metrics/mAP50-95(B)']\n",
              "maps: array([    0.75469,     0.74387,      0.5633])\n",
              "names: {0: 'apple', 1: 'orange', 2: 'banana'}\n",
              "plot: True\n",
              "results_dict: {'metrics/precision(B)': np.float64(0.9072695822739693), 'metrics/recall(B)': np.float64(0.8413979210434684), 'metrics/mAP50(B)': np.float64(0.9242782100999939), 'metrics/mAP50-95(B)': np.float64(0.6872855745834889), 'fitness': np.float64(0.7109848381351395)}\n",
              "save_dir: PosixPath('/content/gdrive/MyDrive/AI/yolo_runs/yolov8s_results')\n",
              "speed: {'preprocess': 1.2043877332568322, 'inference': 448.0649506000191, 'loss': 5.816667301890751e-05, 'postprocess': 0.3281758166849613}\n",
              "task: 'detect'"
            ]
          },
          "metadata": {},
          "execution_count": 5
        }
      ]
    },
    {
      "cell_type": "markdown",
      "source": [
        "![Screenshot 2025-05-27 105507.png](data:image/png;base64,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)"
      ],
      "metadata": {
        "id": "fZDwmNwC4UE6"
      }
    },
    {
      "cell_type": "code",
      "source": [
        "model = YOLO('/content/gdrive/MyDrive/AI/yolo_runs/yolov8s_results/weights/best.pt')\n",
        "\n",
        "metrics = model.val(data='/content/gdrive/MyDrive/AI/data.yaml')\n",
        "\n",
        "print(metrics.box.map50)    # mAP@0.5\n",
        "print(metrics.box.map5095)  # mAP@0.5:0.95\n",
        "print(metrics.box.p50)      # precision\n",
        "print(metrics.box.r50)      # recall"
      ],
      "metadata": {
        "id": "gjXGEoi927rx"
      },
      "execution_count": null,
      "outputs": []
    }
  ]
}